{
  "cells": [
    {
      "cell_type": "code",
      "execution_count": null,
      "metadata": {
        "id": "0uoD7EUdjgXP"
      },
      "outputs": [],
      "source": [
        "import os\n",
        "import matplotlib.pyplot as plt\n",
        "import random\n",
        "import numpy as np\n",
        "from keras.callbacks import EarlyStopping\n",
        "from keras.callbacks import ModelCheckpoint, LearningRateScheduler\n",
        "from keras.callbacks import ReduceLROnPlateau\n",
        "from keras.datasets import fashion_mnist\n",
        "from keras.layers import Add, Dense, Activation, BatchNormalization, Conv2D\n",
        "from keras.layers import Flatten\n",
        "from keras.layers.convolutional import MaxPooling2D\n",
        "from keras.models import Sequential\n",
        "from tensorflow.keras.optimizers import Adam\n",
        "from keras.utils import np_utils\n",
        "from keras.initializers import glorot_uniform\n",
        "%matplotlib inline"
      ]
    },
    {
      "cell_type": "code",
      "execution_count": null,
      "metadata": {
        "id": "n95o0BGeBZLB"
      },
      "outputs": [],
      "source": [
        "model_type = 'vgg16'"
      ]
    },
    {
      "cell_type": "code",
      "execution_count": null,
      "metadata": {
        "id": "k34XYTn_gbVF",
        "colab": {
          "base_uri": "https://localhost:8080/"
        },
        "outputId": "7e93ee72-11ef-468e-fcb8-b234e2338e2d"
      },
      "outputs": [
        {
          "output_type": "stream",
          "name": "stdout",
          "text": [
            "Model Type:  vgg16\n",
            "Model File:  /content/CNN_TASK_ODED/model_type/saved_models/fashion_mnist_vgg16_model.{epoch:03d}.h5\n"
          ]
        }
      ],
      "source": [
        "#Defining Variables\n",
        "\n",
        "#Data set information\n",
        "DATASET = 'fashion_mnist'\n",
        "num_classes = 2\n",
        "input_shape=(28,28,1)\n",
        "epochs = 200\n",
        "lrate = 0.01\n",
        "decay = lrate/epochs\n",
        "batch_size = 32\n",
        "seed = 7\n",
        "np.random.seed(seed)\n",
        "\n",
        "validate_dir = os.path.join(\"data\",\"test\")\n",
        "train_dir = os.path.join(\"data\",\"train\")\n",
        "\n",
        "# Prepare model model saving directory.\n",
        "model_home_dir = os.path.join(os.getcwd(), 'CNN_TASK_ODED',\"model_type\")\n",
        "save_dir = os.path.join(model_home_dir, 'saved_models')\n",
        "\n",
        "model_name = DATASET+'_'+'%s_model.{epoch:03d}.h5' % model_type\n",
        "\n",
        "if not os.path.isdir(save_dir):\n",
        "    os.makedirs(save_dir)\n",
        "filepath = os.path.join(save_dir, model_name)\n",
        "print(\"Model Type: \",model_type)\n",
        "print(\"Model File: \",filepath)"
      ]
    },
    {
      "cell_type": "code",
      "execution_count": null,
      "metadata": {
        "colab": {
          "base_uri": "https://localhost:8080/"
        },
        "id": "pJ39ZC-BXg37",
        "outputId": "f1622764-7dc0-425c-e5e2-e548a5c51818"
      },
      "outputs": [
        {
          "output_type": "stream",
          "name": "stdout",
          "text": [
            "(12000, 1) (2000, 1)\n",
            "(12000, 28, 28) (2000, 28, 28)\n"
          ]
        }
      ],
      "source": [
        "import numpy\n",
        "\n",
        "(X_train, y_train),(X_test,y_test) = fashion_mnist.load_data()\n",
        "X_train.shape, X_test.shape, X_train.shape[1:],X_train.dtype\n",
        "\n",
        "class_7_index = np.where(y_train.reshape(-1) == 7)\n",
        "X_train_class_7 = X_train[class_7_index]\n",
        "y_train_class_7 = y_train[class_7_index]\n",
        "\n",
        "\n",
        "class_names = ['T-shirt/top', 'Trouser', 'Pullover','Dress', 'Coat', 'Sandal','Shirt', 'Sneaker', 'Bag','Ankle boot']\n",
        "\n",
        "# print(\"------------------y_train_class_7-------------------\")\n",
        "# plt.figure(figsize=(10,10))\n",
        "# for i in range(25):\n",
        "#     plt.subplot(5,5,i+1)\n",
        "#     plt.xticks([])\n",
        "#     plt.yticks([])\n",
        "#     plt.grid(False)\n",
        "#     plt.imshow(X_train_class_0[i])\n",
        "#     plt.xlabel(class_names[y_train_class_0[i][0]])\n",
        "# plt.show()\n",
        "\n",
        "class_9_index = np.where(y_train.reshape(-1) == 9)\n",
        "X_train_class_9 = X_train[class_9_index]\n",
        "y_train_class_9 = y_train[class_9_index]\n",
        "\n",
        "# print(\"------------------y_train_class_9-------------------\")\n",
        "# plt.figure(figsize=(10,10))\n",
        "# for i in range(25):\n",
        "#     plt.subplot(5,5,i+1)\n",
        "#     plt.xticks([])\n",
        "#     plt.yticks([])\n",
        "#     plt.grid(False)\n",
        "#     plt.imshow(X_train_class_9[i])\n",
        "#     plt.xlabel(class_names[y_train_class_9[i][0]])\n",
        "# plt.show()\n",
        "\n",
        "\n",
        "X_train = np.concatenate((X_train_class_7, X_train_class_9))\n",
        "y_train = np.concatenate((y_train_class_7, y_train_class_9)).reshape(-1,1)\n",
        "\n",
        "# print(\"------------------concatenate train-------------------\")\n",
        "# plt.figure(figsize=(10,10))\n",
        "# for i in range(25):\n",
        "#     j = random.randint(0,10000)\n",
        "#     plt.subplot(5,5,i+1)\n",
        "#     plt.xticks([])\n",
        "#     plt.yticks([])\n",
        "#     plt.grid(False)\n",
        "#     plt.imshow(X_train[j])\n",
        "#     plt.xlabel(class_names[y_train[j][0]])\n",
        "# plt.show()\n",
        "\n",
        "# ---------------------------------------------------------------------------\n",
        "\n",
        "class_7_index = np.where(y_test.reshape(-1) == 7)\n",
        "X_test_class_7 = X_test[class_7_index]\n",
        "y_test_class_7 = y_test[class_7_index]\n",
        "\n",
        "# print(\"------------------y_test_class_7-------------------\")\n",
        "# plt.figure(figsize=(10,10))\n",
        "# for i in range(25):\n",
        "#     plt.subplot(5,5,i+1)\n",
        "#     plt.xticks([])\n",
        "#     plt.yticks([])\n",
        "#     plt.grid(False)\n",
        "#     plt.imshow(X_test_class_7[i])\n",
        "#     plt.xlabel(class_names[y_test_class_7[i][0]])\n",
        "# plt.show()\n",
        "\n",
        "class_9_index = np.where(y_test.reshape(-1) == 9)\n",
        "X_test_class_9 = X_test[class_9_index]\n",
        "y_test_class_9 = y_test[class_9_index]\n",
        "\n",
        "\n",
        "# print(\"------------------y_test_class_9-------------------\")\n",
        "# plt.figure(figsize=(10,10))\n",
        "# for i in range(25):\n",
        "#     plt.subplot(5,5,i+1)\n",
        "#     plt.xticks([])\n",
        "#     plt.yticks([])\n",
        "#     plt.grid(False)\n",
        "#     plt.imshow(X_test_class_9[i])\n",
        "#     plt.xlabel(class_names[y_test_class_9[i][0]])\n",
        "# plt.show()\n",
        "\n",
        "\n",
        "X_test = np.concatenate((X_test_class_7, X_test_class_9))\n",
        "y_test = np.concatenate((y_test_class_7, y_test_class_9)).reshape(-1,1)\n",
        "\n",
        "# print(\"------------------concatenate test-------------------\")\n",
        "# plt.figure(figsize=(10,10))\n",
        "# for i in range(25):\n",
        "#     j = random.randint(0,2000) \n",
        "#     plt.subplot(5,5,i+1)\n",
        "#     plt.xticks([])\n",
        "#     plt.yticks([])\n",
        "#     plt.grid(False)\n",
        "#     plt.imshow(X_test[j])\n",
        "#     plt.xlabel(class_names[y_test[j][0]])\n",
        "# plt.show()\n",
        "\n",
        "print(y_train.shape, y_test.shape)\n",
        "print(X_train.shape, X_test.shape)\n"
      ]
    },
    {
      "cell_type": "code",
      "source": [
        "y_train_class_9.shape"
      ],
      "metadata": {
        "colab": {
          "base_uri": "https://localhost:8080/"
        },
        "id": "Sxy7gppeNuG5",
        "outputId": "329d1dbf-ab47-4551-c106-5d70b9e0d259"
      },
      "execution_count": null,
      "outputs": [
        {
          "output_type": "execute_result",
          "data": {
            "text/plain": [
              "(6000,)"
            ]
          },
          "metadata": {},
          "execution_count": 5
        }
      ]
    },
    {
      "cell_type": "code",
      "execution_count": null,
      "metadata": {
        "colab": {
          "base_uri": "https://localhost:8080/"
        },
        "id": "DTUnMeebyLGK",
        "outputId": "2b07ad98-91b7-44ec-9a1c-34da004eeaa2"
      },
      "outputs": [
        {
          "output_type": "stream",
          "name": "stdout",
          "text": [
            "(12000, 1) (2000, 1)\n"
          ]
        }
      ],
      "source": [
        "y_train = np.where(y_train > 7, 9, 7)\n",
        "y_test = np.where(y_test > 7, 9, 7)\n",
        "class_names = ['airplane',  'bird']\n",
        "\n",
        "print(y_train.shape, y_test.shape)"
      ]
    },
    {
      "cell_type": "code",
      "execution_count": null,
      "metadata": {
        "colab": {
          "base_uri": "https://localhost:8080/"
        },
        "id": "3DwbzAC1jBr7",
        "outputId": "49828b6d-c03c-4a30-bc71-e6baa732a5f6"
      },
      "outputs": [
        {
          "output_type": "stream",
          "name": "stdout",
          "text": [
            "(11900, 1) (2100, 1)\n",
            "(11900, 28, 28) (2100, 28, 28)\n"
          ]
        }
      ],
      "source": [
        "from sklearn.model_selection import train_test_split\n",
        "from sklearn.utils import shuffle\n",
        "\n",
        "X = np.concatenate((X_test, X_train))\n",
        "Y = np.concatenate((y_test, y_train)).reshape(-1,1)\n",
        "\n",
        "# X, y = shuffle(X, Y, random_state=0)\n",
        "\n",
        "X_train, X_test, y_train, y_test = train_test_split(X, Y, test_size=0.15)\n",
        "\n",
        "print(y_train.shape, y_test.shape)\n",
        "print(X_train.shape, X_test.shape)\n",
        "\n",
        "# print(\"------------------concatenate train-------------------\")\n",
        "# plt.figure(figsize=(10,10))\n",
        "# for i in range(25):\n",
        "#     j = random.randint(0,11900)\n",
        "#     plt.subplot(330 + 1 + i)\n",
        "#     plt.xticks([])\n",
        "#     plt.yticks([])\n",
        "#     plt.grid(False)\n",
        "#     plt.imshow(X_train[j], cmap=plt.get_cmap('gray'))\n",
        "#     # plt.xlabel(class_names[y_train[j]])\n",
        "# plt.show()\n",
        "\n",
        "# print(\"------------------concatenate test-------------------\")\n",
        "# plt.figure(figsize=(10,10))\n",
        "# for i in range(25):\n",
        "#     j = random.randint(0,2100) \n",
        "#     plt.subplot(330 + 1 + i)\n",
        "#     plt.xticks([])\n",
        "#     plt.yticks([])\n",
        "#     plt.grid(False)\n",
        "#     plt.imshow(X_test[j], cmap=plt.get_cmap('gray'))\n",
        "#     # plt.xlabel(class_names[y_test[j]])\n",
        "# plt.show()\n",
        "\n"
      ]
    },
    {
      "cell_type": "code",
      "execution_count": null,
      "metadata": {
        "colab": {
          "base_uri": "https://localhost:8080/"
        },
        "id": "QVJcPP50W2ri",
        "outputId": "d4288c9b-c9fc-4fc1-c3db-d8b723f106a6"
      },
      "outputs": [
        {
          "output_type": "stream",
          "name": "stdout",
          "text": [
            "(11900, 1) (2100, 1)\n"
          ]
        }
      ],
      "source": [
        "X_train = X_train.astype('float32')\n",
        "X_test = X_test.astype('float32')\n",
        "X_train = X_train / 255.\n",
        "X_test = X_test / 255.\n",
        "\n",
        "X_train_mean = np.mean(X_train)\n",
        "X_train -= X_train_mean\n",
        "X_test_mean = np.mean(X_test)\n",
        "X_test -= X_test_mean\n",
        "\n",
        "y_train = np_utils.to_categorical(y_train,)\n",
        "y_test = np_utils.to_categorical(y_test,)\n",
        "y_train = np.delete(y_train,[0,1,2,3,4,5,6,7,8],1)\n",
        "y_test = np.delete(y_test,[0,1,2,3,4,5,6,7,8],1)\n",
        "print(y_train.shape, y_test.shape)\n",
        "\n"
      ]
    },
    {
      "cell_type": "code",
      "execution_count": null,
      "metadata": {
        "id": "XTbp8ZG-Qygu"
      },
      "outputs": [],
      "source": [
        "from tensorflow.keras.layers import Dropout\n",
        "def vgg16(input_shape=(32,32,3), num_classes=2):\n",
        "  model = Sequential()\n",
        "  model.add(Conv2D(input_shape=input_shape,filters=64,kernel_size=(3,3),padding=\"same\", activation=\"relu\"))\n",
        "  model.add(Conv2D(filters=64,kernel_size=(3,3),padding=\"same\", activation=\"relu\"))\n",
        "  model.add(MaxPooling2D(pool_size=(2,2),strides=(2,2)))\n",
        "\n",
        "  model.add(Dropout(0.8))\n",
        "\n",
        "  model.add(Conv2D(filters=32, kernel_size=(3,3), padding=\"same\", activation=\"relu\"))\n",
        "  model.add(Conv2D(filters=32, kernel_size=(3,3), padding=\"same\", activation=\"relu\"))\n",
        "  model.add(MaxPooling2D(pool_size=(2,2),strides=(2,2)))\n",
        "\n",
        "  model.add(Conv2D(filters=64, kernel_size=(3,3), padding=\"same\", activation=\"relu\"))\n",
        "  model.add(Conv2D(filters=64, kernel_size=(3,3), padding=\"same\", activation=\"relu\"))\n",
        "  model.add(Conv2D(filters=64, kernel_size=(3,3), padding=\"same\", activation=\"relu\"))\n",
        "  model.add(MaxPooling2D(pool_size=(2,2),strides=(2,2)))\n",
        "\n",
        "  model.add(Conv2D(filters=128, kernel_size=(3,3), padding=\"same\", activation=\"relu\"))\n",
        "  model.add(Conv2D(filters=128, kernel_size=(3,3), padding=\"same\", activation=\"relu\"))\n",
        "  model.add(Conv2D(filters=128, kernel_size=(3,3), padding=\"same\", activation=\"relu\"))\n",
        "  model.add(MaxPooling2D(pool_size=(2,2),strides=(2,2)))\n",
        "\n",
        "  # model.add(Conv2D(filters=256, kernel_size=(3,3), padding=\"same\", activation=\"relu\"))\n",
        "  # model.add(Conv2D(filters=256, kernel_size=(3,3), padding=\"same\", activation=\"relu\"))\n",
        "  # model.add(Conv2D(filters=256, kernel_size=(3,3), padding=\"same\", activation=\"relu\"))\n",
        "  # model.add(MaxPooling2D(pool_size=(2,2),strides=(2,2)))\n",
        "\n",
        "  model.add(Flatten())\n",
        "  model.add(Dense(units=4096,activation=\"relu\"))\n",
        "  model.add(Dense(units=4096,activation=\"relu\"))\n",
        "  model.add(Dense(units=1, activation=\"sigmoid\"))\n",
        "\n",
        "  return model"
      ]
    },
    {
      "cell_type": "code",
      "execution_count": null,
      "metadata": {
        "id": "p2cGLs6n9l0L"
      },
      "outputs": [],
      "source": [
        "def lr_schedule(epoch):\n",
        "    \"\"\"Learning Rate Schedule\n",
        "\n",
        "    Learning rate is scheduled to be reduced after 80, 120, 160, 180 epochs.\n",
        "    Called automatically every epoch as part of callbacks during training.\n",
        "\n",
        "    # Arguments\n",
        "        epoch (int): The number of epochs\n",
        "\n",
        "    # Returns\n",
        "        lr (float32): learning rate\n",
        "    \"\"\"\n",
        "    lr = 1e-3\n",
        "    if epoch > 180:\n",
        "        lr *= 0.5e-3\n",
        "    elif epoch > 160:\n",
        "        lr *= 1e-3\n",
        "    elif epoch > 120:\n",
        "        lr *= 1e-2\n",
        "    elif epoch > 80:\n",
        "        lr *= 1e-1\n",
        "    print('Learning rate: ', lr)\n",
        "    return lr\n"
      ]
    },
    {
      "cell_type": "code",
      "execution_count": null,
      "metadata": {
        "id": "sdnE9Sd0-NbF"
      },
      "outputs": [],
      "source": [
        "# Prepare callbacks for model saving and for learning rate adjustment.\n",
        "\n",
        "early_stopping = EarlyStopping(monitor='val_loss', min_delta=0.001, patience=5, verbose=0, mode='auto', baseline=None, restore_best_weights=True)\n",
        "\n",
        "checkpoint = ModelCheckpoint(filepath=filepath,\n",
        "                             monitor='val_acc',\n",
        "                             verbose=1,\n",
        "                             save_best_only=True)\n",
        "\n",
        "lr_scheduler = LearningRateScheduler(lr_schedule)\n",
        "\n",
        "lr_reducer = ReduceLROnPlateau(factor=np.sqrt(0.1),\n",
        "                               cooldown=0,\n",
        "                               patience=5,\n",
        "                               min_lr=0.5e-6)\n",
        "\n",
        "callbacks = [checkpoint, lr_reducer, lr_scheduler,early_stopping]\n"
      ]
    },
    {
      "cell_type": "code",
      "execution_count": null,
      "metadata": {
        "id": "AbLu2lefac_h",
        "colab": {
          "base_uri": "https://localhost:8080/"
        },
        "outputId": "812ca9e9-4dbc-48b9-d5e1-2f7b0dee2029"
      },
      "outputs": [
        {
          "output_type": "stream",
          "name": "stdout",
          "text": [
            "Model Summary of  vgg16\n",
            "Model: \"sequential\"\n",
            "_________________________________________________________________\n",
            " Layer (type)                Output Shape              Param #   \n",
            "=================================================================\n",
            " conv2d (Conv2D)             (None, 28, 28, 64)        640       \n",
            "                                                                 \n",
            " conv2d_1 (Conv2D)           (None, 28, 28, 64)        36928     \n",
            "                                                                 \n",
            " max_pooling2d (MaxPooling2D  (None, 14, 14, 64)       0         \n",
            " )                                                               \n",
            "                                                                 \n",
            " dropout (Dropout)           (None, 14, 14, 64)        0         \n",
            "                                                                 \n",
            " conv2d_2 (Conv2D)           (None, 14, 14, 32)        18464     \n",
            "                                                                 \n",
            " conv2d_3 (Conv2D)           (None, 14, 14, 32)        9248      \n",
            "                                                                 \n",
            " max_pooling2d_1 (MaxPooling  (None, 7, 7, 32)         0         \n",
            " 2D)                                                             \n",
            "                                                                 \n",
            " conv2d_4 (Conv2D)           (None, 7, 7, 64)          18496     \n",
            "                                                                 \n",
            " conv2d_5 (Conv2D)           (None, 7, 7, 64)          36928     \n",
            "                                                                 \n",
            " conv2d_6 (Conv2D)           (None, 7, 7, 64)          36928     \n",
            "                                                                 \n",
            " max_pooling2d_2 (MaxPooling  (None, 3, 3, 64)         0         \n",
            " 2D)                                                             \n",
            "                                                                 \n",
            " conv2d_7 (Conv2D)           (None, 3, 3, 128)         73856     \n",
            "                                                                 \n",
            " conv2d_8 (Conv2D)           (None, 3, 3, 128)         147584    \n",
            "                                                                 \n",
            " conv2d_9 (Conv2D)           (None, 3, 3, 128)         147584    \n",
            "                                                                 \n",
            " max_pooling2d_3 (MaxPooling  (None, 1, 1, 128)        0         \n",
            " 2D)                                                             \n",
            "                                                                 \n",
            " flatten (Flatten)           (None, 128)               0         \n",
            "                                                                 \n",
            " dense (Dense)               (None, 4096)              528384    \n",
            "                                                                 \n",
            " dense_1 (Dense)             (None, 4096)              16781312  \n",
            "                                                                 \n",
            " dense_2 (Dense)             (None, 1)                 4097      \n",
            "                                                                 \n",
            "=================================================================\n",
            "Total params: 17,840,449\n",
            "Trainable params: 17,840,449\n",
            "Non-trainable params: 0\n",
            "_________________________________________________________________\n",
            "None\n"
          ]
        },
        {
          "output_type": "stream",
          "name": "stderr",
          "text": [
            "/usr/local/lib/python3.7/dist-packages/keras/optimizers/optimizer_v2/adam.py:110: UserWarning: The `lr` argument is deprecated, use `learning_rate` instead.\n",
            "  super(Adam, self).__init__(name, **kwargs)\n"
          ]
        }
      ],
      "source": [
        " model = vgg16(input_shape,num_classes)\n",
        "\n",
        "# Compile model\n",
        "\n",
        "# optimizer = SGD(lr=lrate, momentum=0.9, decay=decay, nesterov=False)\n",
        "optimizer = Adam(lr=0.001, beta_1=0.9, beta_2=0.999, amsgrad=False)\n",
        "model.compile(loss= 'binary_crossentropy' , optimizer=optimizer, metrics=['accuracy'])\n",
        "print(\"Model Summary of \",model_type)\n",
        "print(model.summary())\n",
        "\n"
      ]
    },
    {
      "cell_type": "code",
      "execution_count": null,
      "metadata": {
        "id": "AIEd9V4KMYR7",
        "colab": {
          "base_uri": "https://localhost:8080/"
        },
        "outputId": "0404b2c8-731b-4eb7-9c50-d4d6ae31de17"
      },
      "outputs": [
        {
          "output_type": "stream",
          "name": "stdout",
          "text": [
            "Learning rate:  0.001\n",
            "Epoch 1/200\n",
            "372/372 [==============================] - ETA: 0s - loss: 0.2897 - accuracy: 0.8546"
          ]
        },
        {
          "output_type": "stream",
          "name": "stderr",
          "text": [
            "WARNING:tensorflow:Can save best model only with val_acc available, skipping.\n"
          ]
        },
        {
          "output_type": "stream",
          "name": "stdout",
          "text": [
            "\b\b\b\b\b\b\b\b\b\b\b\b\b\b\b\b\b\b\b\b\b\b\b\b\b\b\b\b\b\b\b\b\b\b\b\b\b\b\b\b\b\b\b\b\b\b\b\b\b\b\b\b\b\b\b\b\b\b\b\b\b\b\b\b\b\b\b\b\b\b\b\b\b\b\b\b\b\b\b\b\b\b\b\b\r372/372 [==============================] - 8s 14ms/step - loss: 0.2897 - accuracy: 0.8546 - val_loss: 0.1622 - val_accuracy: 0.9433 - lr: 0.0010\n",
            "Learning rate:  0.001\n",
            "Epoch 2/200\n",
            "367/372 [============================>.] - ETA: 0s - loss: 0.1489 - accuracy: 0.9448"
          ]
        },
        {
          "output_type": "stream",
          "name": "stderr",
          "text": [
            "WARNING:tensorflow:Can save best model only with val_acc available, skipping.\n"
          ]
        },
        {
          "output_type": "stream",
          "name": "stdout",
          "text": [
            "\b\b\b\b\b\b\b\b\b\b\b\b\b\b\b\b\b\b\b\b\b\b\b\b\b\b\b\b\b\b\b\b\b\b\b\b\b\b\b\b\b\b\b\b\b\b\b\b\b\b\b\b\b\b\b\b\b\b\b\b\b\b\b\b\b\b\b\b\b\b\b\b\b\b\b\b\b\b\b\b\b\b\b\b\r372/372 [==============================] - 4s 11ms/step - loss: 0.1491 - accuracy: 0.9445 - val_loss: 0.1440 - val_accuracy: 0.9400 - lr: 0.0010\n",
            "Learning rate:  0.001\n",
            "Epoch 3/200\n",
            "372/372 [==============================] - ETA: 0s - loss: 0.1179 - accuracy: 0.9546"
          ]
        },
        {
          "output_type": "stream",
          "name": "stderr",
          "text": [
            "WARNING:tensorflow:Can save best model only with val_acc available, skipping.\n"
          ]
        },
        {
          "output_type": "stream",
          "name": "stdout",
          "text": [
            "\b\b\b\b\b\b\b\b\b\b\b\b\b\b\b\b\b\b\b\b\b\b\b\b\b\b\b\b\b\b\b\b\b\b\b\b\b\b\b\b\b\b\b\b\b\b\b\b\b\b\b\b\b\b\b\b\b\b\b\b\b\b\b\b\b\b\b\b\b\b\b\b\b\b\b\b\b\b\b\b\b\b\b\b\r372/372 [==============================] - 4s 11ms/step - loss: 0.1179 - accuracy: 0.9546 - val_loss: 0.0886 - val_accuracy: 0.9695 - lr: 0.0010\n",
            "Learning rate:  0.001\n",
            "Epoch 4/200\n",
            "372/372 [==============================] - ETA: 0s - loss: 0.1127 - accuracy: 0.9593"
          ]
        },
        {
          "output_type": "stream",
          "name": "stderr",
          "text": [
            "WARNING:tensorflow:Can save best model only with val_acc available, skipping.\n"
          ]
        },
        {
          "output_type": "stream",
          "name": "stdout",
          "text": [
            "\b\b\b\b\b\b\b\b\b\b\b\b\b\b\b\b\b\b\b\b\b\b\b\b\b\b\b\b\b\b\b\b\b\b\b\b\b\b\b\b\b\b\b\b\b\b\b\b\b\b\b\b\b\b\b\b\b\b\b\b\b\b\b\b\b\b\b\b\b\b\b\b\b\b\b\b\b\b\b\b\b\b\b\b\r372/372 [==============================] - 4s 11ms/step - loss: 0.1127 - accuracy: 0.9593 - val_loss: 0.0812 - val_accuracy: 0.9757 - lr: 0.0010\n",
            "Learning rate:  0.001\n",
            "Epoch 5/200\n",
            "370/372 [============================>.] - ETA: 0s - loss: 0.0993 - accuracy: 0.9634"
          ]
        },
        {
          "output_type": "stream",
          "name": "stderr",
          "text": [
            "WARNING:tensorflow:Can save best model only with val_acc available, skipping.\n"
          ]
        },
        {
          "output_type": "stream",
          "name": "stdout",
          "text": [
            "\b\b\b\b\b\b\b\b\b\b\b\b\b\b\b\b\b\b\b\b\b\b\b\b\b\b\b\b\b\b\b\b\b\b\b\b\b\b\b\b\b\b\b\b\b\b\b\b\b\b\b\b\b\b\b\b\b\b\b\b\b\b\b\b\b\b\b\b\b\b\b\b\b\b\b\b\b\b\b\b\b\b\b\b\r372/372 [==============================] - 4s 11ms/step - loss: 0.0992 - accuracy: 0.9636 - val_loss: 0.0697 - val_accuracy: 0.9786 - lr: 0.0010\n",
            "Learning rate:  0.001\n",
            "Epoch 6/200\n",
            "369/372 [============================>.] - ETA: 0s - loss: 0.0989 - accuracy: 0.9621"
          ]
        },
        {
          "output_type": "stream",
          "name": "stderr",
          "text": [
            "WARNING:tensorflow:Can save best model only with val_acc available, skipping.\n"
          ]
        },
        {
          "output_type": "stream",
          "name": "stdout",
          "text": [
            "\b\b\b\b\b\b\b\b\b\b\b\b\b\b\b\b\b\b\b\b\b\b\b\b\b\b\b\b\b\b\b\b\b\b\b\b\b\b\b\b\b\b\b\b\b\b\b\b\b\b\b\b\b\b\b\b\b\b\b\b\b\b\b\b\b\b\b\b\b\b\b\b\b\b\b\b\b\b\b\b\b\b\b\b\r372/372 [==============================] - 4s 11ms/step - loss: 0.0983 - accuracy: 0.9624 - val_loss: 0.0864 - val_accuracy: 0.9714 - lr: 0.0010\n",
            "Learning rate:  0.001\n",
            "Epoch 7/200\n",
            "370/372 [============================>.] - ETA: 0s - loss: 0.0885 - accuracy: 0.9671"
          ]
        },
        {
          "output_type": "stream",
          "name": "stderr",
          "text": [
            "WARNING:tensorflow:Can save best model only with val_acc available, skipping.\n"
          ]
        },
        {
          "output_type": "stream",
          "name": "stdout",
          "text": [
            "\b\b\b\b\b\b\b\b\b\b\b\b\b\b\b\b\b\b\b\b\b\b\b\b\b\b\b\b\b\b\b\b\b\b\b\b\b\b\b\b\b\b\b\b\b\b\b\b\b\b\b\b\b\b\b\b\b\b\b\b\b\b\b\b\b\b\b\b\b\b\b\b\b\b\b\b\b\b\b\b\b\b\b\b\r372/372 [==============================] - 4s 11ms/step - loss: 0.0887 - accuracy: 0.9671 - val_loss: 0.0667 - val_accuracy: 0.9786 - lr: 0.0010\n",
            "Learning rate:  0.001\n",
            "Epoch 8/200\n",
            "371/372 [============================>.] - ETA: 0s - loss: 0.0862 - accuracy: 0.9692"
          ]
        },
        {
          "output_type": "stream",
          "name": "stderr",
          "text": [
            "WARNING:tensorflow:Can save best model only with val_acc available, skipping.\n"
          ]
        },
        {
          "output_type": "stream",
          "name": "stdout",
          "text": [
            "\b\b\b\b\b\b\b\b\b\b\b\b\b\b\b\b\b\b\b\b\b\b\b\b\b\b\b\b\b\b\b\b\b\b\b\b\b\b\b\b\b\b\b\b\b\b\b\b\b\b\b\b\b\b\b\b\b\b\b\b\b\b\b\b\b\b\b\b\b\b\b\b\b\b\b\b\b\b\b\b\b\b\b\b\r372/372 [==============================] - 4s 11ms/step - loss: 0.0861 - accuracy: 0.9692 - val_loss: 0.0706 - val_accuracy: 0.9729 - lr: 0.0010\n",
            "Learning rate:  0.001\n",
            "Epoch 9/200\n",
            "371/372 [============================>.] - ETA: 0s - loss: 0.0834 - accuracy: 0.9679"
          ]
        },
        {
          "output_type": "stream",
          "name": "stderr",
          "text": [
            "WARNING:tensorflow:Can save best model only with val_acc available, skipping.\n"
          ]
        },
        {
          "output_type": "stream",
          "name": "stdout",
          "text": [
            "\b\b\b\b\b\b\b\b\b\b\b\b\b\b\b\b\b\b\b\b\b\b\b\b\b\b\b\b\b\b\b\b\b\b\b\b\b\b\b\b\b\b\b\b\b\b\b\b\b\b\b\b\b\b\b\b\b\b\b\b\b\b\b\b\b\b\b\b\b\b\b\b\b\b\b\b\b\b\b\b\b\b\b\b\r372/372 [==============================] - 4s 11ms/step - loss: 0.0832 - accuracy: 0.9680 - val_loss: 0.0664 - val_accuracy: 0.9762 - lr: 0.0010\n",
            "Learning rate:  0.001\n",
            "Epoch 10/200\n",
            "370/372 [============================>.] - ETA: 0s - loss: 0.0830 - accuracy: 0.9695"
          ]
        },
        {
          "output_type": "stream",
          "name": "stderr",
          "text": [
            "WARNING:tensorflow:Can save best model only with val_acc available, skipping.\n"
          ]
        },
        {
          "output_type": "stream",
          "name": "stdout",
          "text": [
            "\b\b\b\b\b\b\b\b\b\b\b\b\b\b\b\b\b\b\b\b\b\b\b\b\b\b\b\b\b\b\b\b\b\b\b\b\b\b\b\b\b\b\b\b\b\b\b\b\b\b\b\b\b\b\b\b\b\b\b\b\b\b\b\b\b\b\b\b\b\b\b\b\b\b\b\b\b\b\b\b\b\b\b\b\r372/372 [==============================] - 4s 11ms/step - loss: 0.0829 - accuracy: 0.9695 - val_loss: 0.0678 - val_accuracy: 0.9724 - lr: 0.0010\n",
            "Learning rate:  0.001\n",
            "Epoch 11/200\n",
            "371/372 [============================>.] - ETA: 0s - loss: 0.0847 - accuracy: 0.9680"
          ]
        },
        {
          "output_type": "stream",
          "name": "stderr",
          "text": [
            "WARNING:tensorflow:Can save best model only with val_acc available, skipping.\n"
          ]
        },
        {
          "output_type": "stream",
          "name": "stdout",
          "text": [
            "\b\b\b\b\b\b\b\b\b\b\b\b\b\b\b\b\b\b\b\b\b\b\b\b\b\b\b\b\b\b\b\b\b\b\b\b\b\b\b\b\b\b\b\b\b\b\b\b\b\b\b\b\b\b\b\b\b\b\b\b\b\b\b\b\b\b\b\b\b\b\b\b\b\b\b\b\b\b\b\b\b\b\b\b\r372/372 [==============================] - 4s 11ms/step - loss: 0.0846 - accuracy: 0.9680 - val_loss: 0.0637 - val_accuracy: 0.9757 - lr: 0.0010\n",
            "Learning rate:  0.001\n",
            "Epoch 12/200\n",
            "370/372 [============================>.] - ETA: 0s - loss: 0.0717 - accuracy: 0.9725"
          ]
        },
        {
          "output_type": "stream",
          "name": "stderr",
          "text": [
            "WARNING:tensorflow:Can save best model only with val_acc available, skipping.\n"
          ]
        },
        {
          "output_type": "stream",
          "name": "stdout",
          "text": [
            "\b\b\b\b\b\b\b\b\b\b\b\b\b\b\b\b\b\b\b\b\b\b\b\b\b\b\b\b\b\b\b\b\b\b\b\b\b\b\b\b\b\b\b\b\b\b\b\b\b\b\b\b\b\b\b\b\b\b\b\b\b\b\b\b\b\b\b\b\b\b\b\b\b\b\b\b\b\b\b\b\b\b\b\b\r372/372 [==============================] - 4s 11ms/step - loss: 0.0713 - accuracy: 0.9726 - val_loss: 0.0594 - val_accuracy: 0.9786 - lr: 0.0010\n",
            "Learning rate:  0.001\n",
            "Epoch 13/200\n",
            "370/372 [============================>.] - ETA: 0s - loss: 0.0745 - accuracy: 0.9729"
          ]
        },
        {
          "output_type": "stream",
          "name": "stderr",
          "text": [
            "WARNING:tensorflow:Can save best model only with val_acc available, skipping.\n"
          ]
        },
        {
          "output_type": "stream",
          "name": "stdout",
          "text": [
            "\b\b\b\b\b\b\b\b\b\b\b\b\b\b\b\b\b\b\b\b\b\b\b\b\b\b\b\b\b\b\b\b\b\b\b\b\b\b\b\b\b\b\b\b\b\b\b\b\b\b\b\b\b\b\b\b\b\b\b\b\b\b\b\b\b\b\b\b\b\b\b\b\b\b\b\b\b\b\b\b\b\b\b\b\r372/372 [==============================] - 4s 11ms/step - loss: 0.0745 - accuracy: 0.9729 - val_loss: 0.0582 - val_accuracy: 0.9810 - lr: 0.0010\n",
            "Learning rate:  0.001\n",
            "Epoch 14/200\n",
            "371/372 [============================>.] - ETA: 0s - loss: 0.0778 - accuracy: 0.9726"
          ]
        },
        {
          "output_type": "stream",
          "name": "stderr",
          "text": [
            "WARNING:tensorflow:Can save best model only with val_acc available, skipping.\n"
          ]
        },
        {
          "output_type": "stream",
          "name": "stdout",
          "text": [
            "\b\b\b\b\b\b\b\b\b\b\b\b\b\b\b\b\b\b\b\b\b\b\b\b\b\b\b\b\b\b\b\b\b\b\b\b\b\b\b\b\b\b\b\b\b\b\b\b\b\b\b\b\b\b\b\b\b\b\b\b\b\b\b\b\b\b\b\b\b\b\b\b\b\b\b\b\b\b\b\b\b\b\b\b\r372/372 [==============================] - 4s 11ms/step - loss: 0.0776 - accuracy: 0.9727 - val_loss: 0.0572 - val_accuracy: 0.9795 - lr: 0.0010\n",
            "Learning rate:  0.001\n",
            "Epoch 15/200\n",
            "370/372 [============================>.] - ETA: 0s - loss: 0.0740 - accuracy: 0.9732"
          ]
        },
        {
          "output_type": "stream",
          "name": "stderr",
          "text": [
            "WARNING:tensorflow:Can save best model only with val_acc available, skipping.\n"
          ]
        },
        {
          "output_type": "stream",
          "name": "stdout",
          "text": [
            "\b\b\b\b\b\b\b\b\b\b\b\b\b\b\b\b\b\b\b\b\b\b\b\b\b\b\b\b\b\b\b\b\b\b\b\b\b\b\b\b\b\b\b\b\b\b\b\b\b\b\b\b\b\b\b\b\b\b\b\b\b\b\b\b\b\b\b\b\b\b\b\b\b\b\b\b\b\b\b\b\b\b\b\b\r372/372 [==============================] - 4s 11ms/step - loss: 0.0739 - accuracy: 0.9733 - val_loss: 0.0670 - val_accuracy: 0.9752 - lr: 0.0010\n",
            "Learning rate:  0.001\n",
            "Epoch 16/200\n",
            "370/372 [============================>.] - ETA: 0s - loss: 0.0718 - accuracy: 0.9720"
          ]
        },
        {
          "output_type": "stream",
          "name": "stderr",
          "text": [
            "WARNING:tensorflow:Can save best model only with val_acc available, skipping.\n"
          ]
        },
        {
          "output_type": "stream",
          "name": "stdout",
          "text": [
            "\b\b\b\b\b\b\b\b\b\b\b\b\b\b\b\b\b\b\b\b\b\b\b\b\b\b\b\b\b\b\b\b\b\b\b\b\b\b\b\b\b\b\b\b\b\b\b\b\b\b\b\b\b\b\b\b\b\b\b\b\b\b\b\b\b\b\b\b\b\b\b\b\b\b\b\b\b\b\b\b\b\b\b\b\r372/372 [==============================] - 4s 11ms/step - loss: 0.0721 - accuracy: 0.9719 - val_loss: 0.0669 - val_accuracy: 0.9762 - lr: 0.0010\n",
            "Learning rate:  0.001\n",
            "Epoch 17/200\n",
            "371/372 [============================>.] - ETA: 0s - loss: 0.0766 - accuracy: 0.9710"
          ]
        },
        {
          "output_type": "stream",
          "name": "stderr",
          "text": [
            "WARNING:tensorflow:Can save best model only with val_acc available, skipping.\n"
          ]
        },
        {
          "output_type": "stream",
          "name": "stdout",
          "text": [
            "\b\b\b\b\b\b\b\b\b\b\b\b\b\b\b\b\b\b\b\b\b\b\b\b\b\b\b\b\b\b\b\b\b\b\b\b\b\b\b\b\b\b\b\b\b\b\b\b\b\b\b\b\b\b\b\b\b\b\b\b\b\b\b\b\b\b\b\b\b\b\b\b\b\b\b\b\b\b\b\b\b\b\b\b\r372/372 [==============================] - 4s 11ms/step - loss: 0.0767 - accuracy: 0.9709 - val_loss: 0.0575 - val_accuracy: 0.9790 - lr: 0.0010\n",
            "Learning rate:  0.001\n",
            "Epoch 18/200\n",
            "371/372 [============================>.] - ETA: 0s - loss: 0.0741 - accuracy: 0.9725"
          ]
        },
        {
          "output_type": "stream",
          "name": "stderr",
          "text": [
            "WARNING:tensorflow:Can save best model only with val_acc available, skipping.\n"
          ]
        },
        {
          "output_type": "stream",
          "name": "stdout",
          "text": [
            "\b\b\b\b\b\b\b\b\b\b\b\b\b\b\b\b\b\b\b\b\b\b\b\b\b\b\b\b\b\b\b\b\b\b\b\b\b\b\b\b\b\b\b\b\b\b\b\b\b\b\b\b\b\b\b\b\b\b\b\b\b\b\b\b\b\b\b\b\b\b\b\b\b\b\b\b\b\b\b\b\b\b\b\b\r372/372 [==============================] - 4s 11ms/step - loss: 0.0739 - accuracy: 0.9726 - val_loss: 0.0627 - val_accuracy: 0.9790 - lr: 0.0010\n",
            "Learning rate:  0.001\n",
            "Epoch 19/200\n",
            "371/372 [============================>.] - ETA: 0s - loss: 0.0738 - accuracy: 0.9727"
          ]
        },
        {
          "output_type": "stream",
          "name": "stderr",
          "text": [
            "WARNING:tensorflow:Can save best model only with val_acc available, skipping.\n"
          ]
        },
        {
          "output_type": "stream",
          "name": "stdout",
          "text": [
            "372/372 [==============================] - 5s 12ms/step - loss: 0.0739 - accuracy: 0.9726 - val_loss: 0.0565 - val_accuracy: 0.9786 - lr: 0.0010\n",
            "66/66 [==============================] - 0s 5ms/step - loss: 0.0572 - accuracy: 0.9795\n",
            "Test loss: 0.05719698220491409\n",
            "Test accuracy: 0.9795238375663757\n"
          ]
        }
      ],
      "source": [
        "# Score trained model.\n",
        "history = model.fit(X_train, y_train,\n",
        "      batch_size=batch_size,\n",
        "      epochs=epochs,\n",
        "      validation_data=(X_test, y_test),\n",
        "      shuffle=True,\n",
        "      callbacks=callbacks)\n",
        "scores = model.evaluate(X_test, y_test, verbose=1)\n",
        "print('Test loss:', scores[0])\n",
        "print('Test accuracy:', scores[1])"
      ]
    },
    {
      "cell_type": "code",
      "execution_count": null,
      "metadata": {
        "id": "T95kj0_iP54_",
        "colab": {
          "base_uri": "https://localhost:8080/",
          "height": 591
        },
        "outputId": "2cc8526c-b5d9-4631-d6fe-23c21b354a52"
      },
      "outputs": [
        {
          "output_type": "stream",
          "name": "stdout",
          "text": [
            "dict_keys(['loss', 'accuracy', 'val_loss', 'val_accuracy', 'lr'])\n"
          ]
        },
        {
          "output_type": "display_data",
          "data": {
            "text/plain": [
              "<Figure size 432x288 with 1 Axes>"
            ],
            "image/png": "[encoded data removed]"
          },
          "metadata": {
            "needs_background": "light"
          }
        },
        {
          "output_type": "display_data",
          "data": {
            "text/plain": [
              "<Figure size 432x288 with 1 Axes>"
            ],
            "image/png": "[encoded data removed]"
          },
          "metadata": {
            "needs_background": "light"
          }
        }
      ],
      "source": [
        "# list all data in history\n",
        "print(history.history.keys())\n",
        "# summarize history for accuracy\n",
        "plt.plot(history.history['accuracy'])\n",
        "plt.plot(history.history['val_accuracy'])\n",
        "plt.title('model accuracy')\n",
        "plt.ylabel('accuracy')\n",
        "plt.xlabel('epoch')\n",
        "plt.legend(['train', 'test'], loc='upper left')\n",
        "plt.show()\n",
        "# summarize history for loss\n",
        "plt.plot(history.history['loss'])\n",
        "plt.plot(history.history['val_loss'])\n",
        "plt.title('model loss')\n",
        "plt.ylabel('loss')\n",
        "plt.xlabel('epoch')\n",
        "plt.legend(['train', 'test'], loc='upper left')\n",
        "plt.show()"
      ]
    },
    {
      "cell_type": "code",
      "source": [
        "from sklearn.metrics import roc_curve, auc\n",
        "\n",
        "y_pred = model.predict(X_test).ravel()\n",
        "\n",
        "nn_fpr_keras, nn_tpr_keras, nn_thresholds_keras = roc_curve(y_test, y_pred)\n",
        "auc_keras = auc(nn_fpr_keras, nn_tpr_keras)\n",
        "plt.plot(nn_fpr_keras, nn_tpr_keras, marker='.', label='Neural Network (auc = %0.3f)' % auc_keras)\n",
        "plt.title('ROC Curve')\n",
        "plt.ylabel('TPR')\n",
        "plt.xlabel('FPR')\n",
        "plt.show()\n",
        "\n",
        "print(auc_keras)\n"
      ],
      "metadata": {
        "colab": {
          "base_uri": "https://localhost:8080/",
          "height": 331
        },
        "id": "rwZbKegwmPcU",
        "outputId": "2da028cf-b194-42f3-ece5-e3dd3c2734ed"
      },
      "execution_count": null,
      "outputs": [
        {
          "output_type": "stream",
          "name": "stdout",
          "text": [
            "66/66 [==============================] - 0s 3ms/step\n"
          ]
        },
        {
          "output_type": "display_data",
          "data": {
            "text/plain": [
              "<Figure size 432x288 with 1 Axes>"
            ],
            "image/png": "[encoded data removed]"
          },
          "metadata": {
            "needs_background": "light"
          }
        },
        {
          "output_type": "stream",
          "name": "stdout",
          "text": [
            "0.9978967425823428\n"
          ]
        }
      ]
    },
    {
      "cell_type": "code",
      "source": [
        "from matplotlib import pyplot\n",
        "predict_x=model.predict(X_test) \n",
        "\n",
        "Sneaker_index = np.where(y_test.reshape(-1) == 0.)\n",
        "Sneaker = predict_x[Sneaker_index]\n",
        "\n",
        "boot_index = np.where(y_test.reshape(-1) == 1.)\n",
        "boot = predict_x[boot_index]\n",
        "\n",
        "\n",
        "\n",
        "bins = np.linspace(0, 1, 50)\n",
        "\n",
        "pyplot.hist(Sneaker, bins, alpha=0.5, label='Sneaker')\n",
        "pyplot.hist(boot, bins, alpha=0.5, label='boot')\n",
        "pyplot.legend(loc='upper right')\n",
        "pyplot.show()"
      ],
      "metadata": {
        "colab": {
          "base_uri": "https://localhost:8080/",
          "height": 283
        },
        "id": "LDPz4LZ932Fh",
        "outputId": "bf7e31e1-ac1f-45dc-8e48-ec41f496bf3d"
      },
      "execution_count": null,
      "outputs": [
        {
          "output_type": "stream",
          "name": "stdout",
          "text": [
            "66/66 [==============================] - 0s 3ms/step\n"
          ]
        },
        {
          "output_type": "display_data",
          "data": {
            "text/plain": [
              "<Figure size 432x288 with 1 Axes>"
            ],
            "image/png": "[encoded data removed]"
          },
          "metadata": {
            "needs_background": "light"
          }
        }
      ]
    }
  ],
  "metadata": {
    "accelerator": "GPU",
    "colab": {
      "collapsed_sections": [],
      "machine_shape": "hm",
      "provenance": []
    },
    "kernelspec": {
      "display_name": "Python 3",
      "name": "python3"
    }
  },
  "nbformat": 4,
  "nbformat_minor": 0
}