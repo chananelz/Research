{
 "cells": [
  {
   "cell_type": "code",
   "execution_count": 1,
   "metadata": {
    "id": "0uoD7EUdjgXP",
    "pycharm": {
     "name": "#%%\n"
    }
   },
   "outputs": [],
   "source": [
    "import os\n",
    "import matplotlib.pyplot as plt\n",
    "import random\n",
    "import numpy as np\n",
    "from keras.callbacks import EarlyStopping\n",
    "from keras.callbacks import ModelCheckpoint, LearningRateScheduler\n",
    "from keras.callbacks import ReduceLROnPlateau\n",
    "from keras.datasets import fashion_mnist\n",
    "from keras.layers import Dense, Conv2D\n",
    "from keras.layers import Flatten\n",
    "from keras.layers.convolutional import MaxPooling2D\n",
    "from keras.models import Sequential\n",
    "from tensorflow.keras.optimizers import Adam\n",
    "from keras.utils import np_utils\n",
    "%matplotlib inline"
   ]
  },
  {
   "cell_type": "code",
   "execution_count": 2,
   "metadata": {
    "pycharm": {
     "name": "#%%\n"
    }
   },
   "outputs": [],
   "source": [
    "# print(tf.version.VERSION)\n",
    "# tf.config.list_physical_devices('GPU')"
   ]
  },
  {
   "cell_type": "code",
   "execution_count": 3,
   "metadata": {
    "id": "n95o0BGeBZLB",
    "pycharm": {
     "name": "#%%\n"
    }
   },
   "outputs": [],
   "source": [
    "model_type = 'vgg16'"
   ]
  },
  {
   "cell_type": "code",
   "execution_count": 4,
   "metadata": {
    "colab": {
     "base_uri": "https://localhost:8080/"
    },
    "id": "k34XYTn_gbVF",
    "outputId": "7e93ee72-11ef-468e-fcb8-b234e2338e2d",
    "pycharm": {
     "name": "#%%\n"
    }
   },
   "outputs": [
    {
     "name": "stdout",
     "output_type": "stream",
     "text": [
      "Model Type:  vgg16\n",
      "Model File:  /home/ec2-user/SageMaker/Research/AWS/CNN_TASK_ODED/model_type/saved_models/fashion_mnist_vgg16_model.{epoch:03d}.h5\n"
     ]
    }
   ],
   "source": [
    "#Defining Variables\n",
    "\n",
    "#Data set information\n",
    "DATASET = 'fashion_mnist'\n",
    "num_classes = 2\n",
    "input_shape=(28,28,1)\n",
    "epochs = 200\n",
    "lrate = 0.01\n",
    "decay = lrate/epochs\n",
    "batch_size = 32\n",
    "seed = 7\n",
    "np.random.seed(seed)\n",
    "\n",
    "validate_dir = os.path.join(\"data\",\"test\")\n",
    "train_dir = os.path.join(\"data\",\"train\")\n",
    "\n",
    "# Prepare model model saving directory.\n",
    "model_home_dir = os.path.join(os.getcwd(), 'CNN_TASK_ODED',\"model_type\")\n",
    "save_dir = os.path.join(model_home_dir, 'saved_models')\n",
    "\n",
    "model_name = DATASET+'_'+'%s_model.{epoch:03d}.h5' % model_type\n",
    "\n",
    "if not os.path.isdir(save_dir):\n",
    "    os.makedirs(save_dir)\n",
    "filepath = os.path.join(save_dir, model_name)\n",
    "print(\"Model Type: \",model_type)\n",
    "print(\"Model File: \",filepath)"
   ]
  },
  {
   "cell_type": "code",
   "execution_count": 5,
   "metadata": {
    "colab": {
     "base_uri": "https://localhost:8080/"
    },
    "id": "pJ39ZC-BXg37",
    "outputId": "f1622764-7dc0-425c-e5e2-e548a5c51818",
    "pycharm": {
     "name": "#%%\n"
    }
   },
   "outputs": [
    {
     "name": "stdout",
     "output_type": "stream",
     "text": [
      "(12000, 1) (2000, 1)\n",
      "(12000, 28, 28) (2000, 28, 28)\n"
     ]
    }
   ],
   "source": [
    "import numpy\n",
    "\n",
    "(X_train, y_train),(X_test,y_test) = fashion_mnist.load_data()\n",
    "X_train.shape, X_test.shape, X_train.shape[1:],X_train.dtype\n",
    "\n",
    "class_7_index = np.where(y_train.reshape(-1) == 7)\n",
    "X_train_class_7 = X_train[class_7_index]\n",
    "y_train_class_7 = y_train[class_7_index]\n",
    "\n",
    "\n",
    "class_names = ['T-shirt/top', 'Trouser', 'Pullover','Dress', 'Coat', 'Sandal','Shirt', 'Sneaker', 'Bag','Ankle boot']\n",
    "\n",
    "# print(\"------------------y_train_class_7-------------------\")\n",
    "# plt.figure(figsize=(10,10))\n",
    "# for i in range(25):\n",
    "#     plt.subplot(5,5,i+1)\n",
    "#     plt.xticks([])\n",
    "#     plt.yticks([])\n",
    "#     plt.grid(False)\n",
    "#     plt.imshow(X_train_class_0[i])\n",
    "#     plt.xlabel(class_names[y_train_class_0[i][0]])\n",
    "# plt.show()\n",
    "\n",
    "class_9_index = np.where(y_train.reshape(-1) == 9)\n",
    "X_train_class_9 = X_train[class_9_index]\n",
    "y_train_class_9 = y_train[class_9_index]\n",
    "\n",
    "# print(\"------------------y_train_class_9-------------------\")\n",
    "# plt.figure(figsize=(10,10))\n",
    "# for i in range(25):\n",
    "#     plt.subplot(5,5,i+1)\n",
    "#     plt.xticks([])\n",
    "#     plt.yticks([])\n",
    "#     plt.grid(False)\n",
    "#     plt.imshow(X_train_class_9[i])\n",
    "#     plt.xlabel(class_names[y_train_class_9[i][0]])\n",
    "# plt.show()\n",
    "\n",
    "\n",
    "X_train = np.concatenate((X_train_class_7, X_train_class_9))\n",
    "y_train = np.concatenate((y_train_class_7, y_train_class_9)).reshape(-1,1)\n",
    "\n",
    "# print(\"------------------concatenate train-------------------\")\n",
    "# plt.figure(figsize=(10,10))\n",
    "# for i in range(25):\n",
    "#     j = random.randint(0,10000)\n",
    "#     plt.subplot(5,5,i+1)\n",
    "#     plt.xticks([])\n",
    "#     plt.yticks([])\n",
    "#     plt.grid(False)\n",
    "#     plt.imshow(X_train[j])\n",
    "#     plt.xlabel(class_names[y_train[j][0]])\n",
    "# plt.show()\n",
    "\n",
    "# ---------------------------------------------------------------------------\n",
    "\n",
    "class_7_index = np.where(y_test.reshape(-1) == 7)\n",
    "X_test_class_7 = X_test[class_7_index]\n",
    "y_test_class_7 = y_test[class_7_index]\n",
    "\n",
    "# print(\"------------------y_test_class_7-------------------\")\n",
    "# plt.figure(figsize=(10,10))\n",
    "# for i in range(25):\n",
    "#     plt.subplot(5,5,i+1)\n",
    "#     plt.xticks([])\n",
    "#     plt.yticks([])\n",
    "#     plt.grid(False)\n",
    "#     plt.imshow(X_test_class_7[i])\n",
    "#     plt.xlabel(class_names[y_test_class_7[i][0]])\n",
    "# plt.show()\n",
    "\n",
    "class_9_index = np.where(y_test.reshape(-1) == 9)\n",
    "X_test_class_9 = X_test[class_9_index]\n",
    "y_test_class_9 = y_test[class_9_index]\n",
    "\n",
    "\n",
    "# print(\"------------------y_test_class_9-------------------\")\n",
    "# plt.figure(figsize=(10,10))\n",
    "# for i in range(25):\n",
    "#     plt.subplot(5,5,i+1)\n",
    "#     plt.xticks([])\n",
    "#     plt.yticks([])\n",
    "#     plt.grid(False)\n",
    "#     plt.imshow(X_test_class_9[i])\n",
    "#     plt.xlabel(class_names[y_test_class_9[i][0]])\n",
    "# plt.show()\n",
    "\n",
    "\n",
    "X_test = np.concatenate((X_test_class_7, X_test_class_9))\n",
    "y_test = np.concatenate((y_test_class_7, y_test_class_9)).reshape(-1,1)\n",
    "\n",
    "# print(\"------------------concatenate test-------------------\")\n",
    "# plt.figure(figsize=(10,10))\n",
    "# for i in range(25):\n",
    "#     j = random.randint(0,2000) \n",
    "#     plt.subplot(5,5,i+1)\n",
    "#     plt.xticks([])\n",
    "#     plt.yticks([])\n",
    "#     plt.grid(False)\n",
    "#     plt.imshow(X_test[j])\n",
    "#     plt.xlabel(class_names[y_test[j][0]])\n",
    "# plt.show()\n",
    "\n",
    "print(y_train.shape, y_test.shape)\n",
    "print(X_train.shape, X_test.shape)\n"
   ]
  },
  {
   "cell_type": "code",
   "execution_count": 6,
   "metadata": {
    "colab": {
     "base_uri": "https://localhost:8080/"
    },
    "id": "Sxy7gppeNuG5",
    "outputId": "329d1dbf-ab47-4551-c106-5d70b9e0d259",
    "pycharm": {
     "name": "#%%\n"
    }
   },
   "outputs": [
    {
     "data": {
      "text/plain": [
       "(6000,)"
      ]
     },
     "execution_count": 6,
     "metadata": {},
     "output_type": "execute_result"
    }
   ],
   "source": [
    "y_train_class_9.shape"
   ]
  },
  {
   "cell_type": "code",
   "execution_count": 7,
   "metadata": {
    "colab": {
     "base_uri": "https://localhost:8080/"
    },
    "id": "DTUnMeebyLGK",
    "outputId": "2b07ad98-91b7-44ec-9a1c-34da004eeaa2",
    "pycharm": {
     "name": "#%%\n"
    }
   },
   "outputs": [
    {
     "name": "stdout",
     "output_type": "stream",
     "text": [
      "(12000, 1) (2000, 1)\n"
     ]
    }
   ],
   "source": [
    "y_train = np.where(y_train > 7, 9, 7)\n",
    "y_test = np.where(y_test > 7, 9, 7)\n",
    "\n",
    "print(y_train.shape, y_test.shape)"
   ]
  },
  {
   "cell_type": "code",
   "execution_count": 8,
   "metadata": {
    "colab": {
     "base_uri": "https://localhost:8080/"
    },
    "id": "3DwbzAC1jBr7",
    "outputId": "49828b6d-c03c-4a30-bc71-e6baa732a5f6",
    "pycharm": {
     "name": "#%%\n"
    }
   },
   "outputs": [
    {
     "name": "stdout",
     "output_type": "stream",
     "text": [
      "(11900, 1) (2100, 1)\n",
      "(11900, 28, 28) (2100, 28, 28)\n",
      "------------------concatenate train-------------------\n"
     ]
    },
    {
     "data": {
      "image/png": "[encoded data removed]",
      "text/plain": [
       "<Figure size 720x720 with 25 Axes>"
      ]
     },
     "metadata": {},
     "output_type": "display_data"
    },
    {
     "name": "stdout",
     "output_type": "stream",
     "text": [
      "------------------concatenate test-------------------\n"
     ]
    },
    {
     "data": {
      "image/png": "[encoded data removed]",
      "text/plain": [
       "<Figure size 720x720 with 25 Axes>"
      ]
     },
     "metadata": {},
     "output_type": "display_data"
    }
   ],
   "source": [
    "from sklearn.model_selection import train_test_split\n",
    "from sklearn.utils import shuffle\n",
    "\n",
    "X = np.concatenate((X_test, X_train))\n",
    "Y = np.concatenate((y_test, y_train)).reshape(-1,1)\n",
    "\n",
    "# X, y = shuffle(X, Y, random_state=0)\n",
    "\n",
    "X_train, X_test, y_train, y_test = train_test_split(X, Y, test_size=0.15)\n",
    "\n",
    "print(y_train.shape, y_test.shape)\n",
    "print(X_train.shape, X_test.shape)\n",
    "\n",
    "print(\"------------------concatenate train-------------------\")\n",
    "plt.figure(figsize=(10,10))\n",
    "for i in range(25):\n",
    "    j = random.randint(0,1000)\n",
    "    plt.subplot(5,5,i+1)\n",
    "    plt.xticks([])\n",
    "    plt.yticks([])\n",
    "    plt.grid(False)\n",
    "    plt.imshow(X_train[j], cmap=plt.get_cmap('gray'))\n",
    "    plt.xlabel(class_names[y_train[j][0].astype('int')])\n",
    "plt.show()\n",
    "\n",
    "print(\"------------------concatenate test-------------------\")\n",
    "plt.figure(figsize=(10,10))\n",
    "for i in range(25):\n",
    "    j = random.randint(0,500) \n",
    "    plt.subplot(5,5,i+1)\n",
    "    plt.xticks([])\n",
    "    plt.yticks([])\n",
    "    plt.grid(False)\n",
    "    plt.imshow(X_test[j], cmap=plt.get_cmap('gray'))\n",
    "    plt.xlabel(class_names[y_test[j][0].astype('int')])\n",
    "plt.show()\n",
    "\n"
   ]
  },
  {
   "cell_type": "code",
   "execution_count": 9,
   "metadata": {
    "colab": {
     "base_uri": "https://localhost:8080/"
    },
    "id": "QVJcPP50W2ri",
    "outputId": "d4288c9b-c9fc-4fc1-c3db-d8b723f106a6",
    "pycharm": {
     "name": "#%%\n"
    }
   },
   "outputs": [
    {
     "name": "stdout",
     "output_type": "stream",
     "text": [
      "(11900, 1) (2100, 1)\n"
     ]
    }
   ],
   "source": [
    "X_train = X_train.astype('float32')\n",
    "X_test = X_test.astype('float32')\n",
    "X_train = X_train / 255.\n",
    "X_test = X_test / 255.\n",
    "\n",
    "X_train_mean = np.mean(X_train)\n",
    "X_train -= X_train_mean\n",
    "X_test_mean = np.mean(X_test)\n",
    "X_test -= X_test_mean\n",
    "\n",
    "y_train = np_utils.to_categorical(y_train,)\n",
    "y_test = np_utils.to_categorical(y_test,)\n",
    "y_train = np.delete(y_train,[0,1,2,3,4,5,6,7,8],1)\n",
    "y_test = np.delete(y_test,[0,1,2,3,4,5,6,7,8],1)\n",
    "print(y_train.shape, y_test.shape)\n",
    "\n"
   ]
  },
  {
   "cell_type": "code",
   "execution_count": 10,
   "metadata": {
    "pycharm": {
     "name": "#%%\n"
    }
   },
   "outputs": [
    {
     "data": {
      "image/png": "[encoded data removed]",
      "text/plain": [
       "<Figure size 432x288 with 1 Axes>"
      ]
     },
     "metadata": {
      "needs_background": "light"
     },
     "output_type": "display_data"
    },
    {
     "name": "stdout",
     "output_type": "stream",
     "text": [
      " Sneaker :1070\n",
      " Ankle boot :1030\n"
     ]
    }
   ],
   "source": [
    "import seaborn as sns\n",
    "import pandas as pd\n",
    "\n",
    "\n",
    "plt.title('Distribution')\n",
    "sns.countplot(y = 0, data=pd.DataFrame(y_test))\n",
    "plt.show()\n",
    "\n",
    "print(f' Sneaker :{np.count_nonzero(y_test == 0)}')\n",
    "print(f' Ankle boot :{np.count_nonzero(y_test == 1)}')"
   ]
  },
  {
   "cell_type": "code",
   "execution_count": 11,
   "metadata": {
    "id": "XTbp8ZG-Qygu",
    "pycharm": {
     "name": "#%%\n"
    }
   },
   "outputs": [],
   "source": [
    "from tensorflow.keras.layers import Dropout\n",
    "def vgg16(input_shape=(32,32,3), num_classes=2):\n",
    "  model = Sequential()\n",
    "  model.add(Conv2D(input_shape=input_shape,filters=64,kernel_size=(3,3),padding=\"same\", activation=\"relu\"))\n",
    "  model.add(Conv2D(filters=64,kernel_size=(3,3),padding=\"same\", activation=\"relu\"))\n",
    "  model.add(MaxPooling2D(pool_size=(2,2),strides=(2,2)))\n",
    "\n",
    "  model.add(Dropout(0.8))\n",
    "\n",
    "  model.add(Conv2D(filters=32, kernel_size=(3,3), padding=\"same\", activation=\"relu\"))\n",
    "  model.add(Conv2D(filters=32, kernel_size=(3,3), padding=\"same\", activation=\"relu\"))\n",
    "  model.add(MaxPooling2D(pool_size=(2,2),strides=(2,2)))\n",
    "\n",
    "  model.add(Conv2D(filters=64, kernel_size=(3,3), padding=\"same\", activation=\"relu\"))\n",
    "  model.add(Conv2D(filters=64, kernel_size=(3,3), padding=\"same\", activation=\"relu\"))\n",
    "  model.add(Conv2D(filters=64, kernel_size=(3,3), padding=\"same\", activation=\"relu\"))\n",
    "  model.add(MaxPooling2D(pool_size=(2,2),strides=(2,2)))\n",
    "\n",
    "  model.add(Conv2D(filters=128, kernel_size=(3,3), padding=\"same\", activation=\"relu\"))\n",
    "  model.add(Conv2D(filters=128, kernel_size=(3,3), padding=\"same\", activation=\"relu\"))\n",
    "  model.add(Conv2D(filters=128, kernel_size=(3,3), padding=\"same\", activation=\"relu\"))\n",
    "  model.add(MaxPooling2D(pool_size=(2,2),strides=(2,2)))\n",
    "\n",
    "  # model.add(Conv2D(filters=256, kernel_size=(3,3), padding=\"same\", activation=\"relu\"))\n",
    "  # model.add(Conv2D(filters=256, kernel_size=(3,3), padding=\"same\", activation=\"relu\"))\n",
    "  # model.add(Conv2D(filters=256, kernel_size=(3,3), padding=\"same\", activation=\"relu\"))\n",
    "  # model.add(MaxPooling2D(pool_size=(2,2),strides=(2,2)))\n",
    "\n",
    "  model.add(Flatten())\n",
    "  model.add(Dense(units=4096,activation=\"relu\"))\n",
    "  model.add(Dense(units=4096,activation=\"relu\"))\n",
    "  model.add(Dense(units=1, activation=\"sigmoid\"))\n",
    "\n",
    "  return model"
   ]
  },
  {
   "cell_type": "code",
   "execution_count": 12,
   "metadata": {
    "id": "p2cGLs6n9l0L",
    "pycharm": {
     "name": "#%%\n"
    }
   },
   "outputs": [],
   "source": [
    "def lr_schedule(epoch):\n",
    "    \"\"\"Learning Rate Schedule\n",
    "\n",
    "    Learning rate is scheduled to be reduced after 80, 120, 160, 180 epochs.\n",
    "    Called automatically every epoch as part of callbacks during training.\n",
    "\n",
    "    # Arguments\n",
    "        epoch (int): The number of epochs\n",
    "\n",
    "    # Returns\n",
    "        lr (float32): learning rate\n",
    "    \"\"\"\n",
    "    lr = 1e-3\n",
    "    if epoch > 180:\n",
    "        lr *= 0.5e-3\n",
    "    elif epoch > 160:\n",
    "        lr *= 1e-3\n",
    "    elif epoch > 120:\n",
    "        lr *= 1e-2\n",
    "    elif epoch > 80:\n",
    "        lr *= 1e-1\n",
    "    print('Learning rate: ', lr)\n",
    "    return lr\n"
   ]
  },
  {
   "cell_type": "code",
   "execution_count": 13,
   "metadata": {
    "id": "sdnE9Sd0-NbF",
    "pycharm": {
     "name": "#%%\n"
    }
   },
   "outputs": [],
   "source": [
    "# Prepare callbacks for model saving and for learning rate adjustment.\n",
    "\n",
    "early_stopping = EarlyStopping(monitor='val_loss', min_delta=0.001, patience=5, verbose=0, mode='auto', baseline=None, restore_best_weights=True)\n",
    "\n",
    "checkpoint = ModelCheckpoint(filepath=filepath,\n",
    "                             monitor='val_acc',\n",
    "                             verbose=1,\n",
    "                             save_best_only=True)\n",
    "\n",
    "lr_scheduler = LearningRateScheduler(lr_schedule)\n",
    "\n",
    "lr_reducer = ReduceLROnPlateau(factor=np.sqrt(0.1),\n",
    "                               cooldown=0,\n",
    "                               patience=5,\n",
    "                               min_lr=0.5e-6)\n",
    "\n",
    "callbacks = [checkpoint, lr_reducer, lr_scheduler,early_stopping]\n"
   ]
  },
  {
   "cell_type": "code",
   "execution_count": 14,
   "metadata": {
    "colab": {
     "base_uri": "https://localhost:8080/"
    },
    "id": "AbLu2lefac_h",
    "outputId": "812ca9e9-4dbc-48b9-d5e1-2f7b0dee2029",
    "pycharm": {
     "name": "#%%\n"
    }
   },
   "outputs": [
    {
     "name": "stdout",
     "output_type": "stream",
     "text": [
      "Model Summary of  vgg16\n",
      "Model: \"sequential\"\n",
      "_________________________________________________________________\n",
      " Layer (type)                Output Shape              Param #   \n",
      "=================================================================\n",
      " conv2d (Conv2D)             (None, 28, 28, 64)        640       \n",
      "                                                                 \n",
      " conv2d_1 (Conv2D)           (None, 28, 28, 64)        36928     \n",
      "                                                                 \n",
      " max_pooling2d (MaxPooling2D  (None, 14, 14, 64)       0         \n",
      " )                                                               \n",
      "                                                                 \n",
      " dropout (Dropout)           (None, 14, 14, 64)        0         \n",
      "                                                                 \n",
      " conv2d_2 (Conv2D)           (None, 14, 14, 32)        18464     \n",
      "                                                                 \n",
      " conv2d_3 (Conv2D)           (None, 14, 14, 32)        9248      \n",
      "                                                                 \n",
      " max_pooling2d_1 (MaxPooling  (None, 7, 7, 32)         0         \n",
      " 2D)                                                             \n",
      "                                                                 \n",
      " conv2d_4 (Conv2D)           (None, 7, 7, 64)          18496     \n",
      "                                                                 \n",
      " conv2d_5 (Conv2D)           (None, 7, 7, 64)          36928     \n",
      "                                                                 \n",
      " conv2d_6 (Conv2D)           (None, 7, 7, 64)          36928     \n",
      "                                                                 \n",
      " max_pooling2d_2 (MaxPooling  (None, 3, 3, 64)         0         \n",
      " 2D)                                                             \n",
      "                                                                 \n",
      " conv2d_7 (Conv2D)           (None, 3, 3, 128)         73856     \n",
      "                                                                 \n",
      " conv2d_8 (Conv2D)           (None, 3, 3, 128)         147584    \n",
      "                                                                 \n",
      " conv2d_9 (Conv2D)           (None, 3, 3, 128)         147584    \n",
      "                                                                 \n",
      " max_pooling2d_3 (MaxPooling  (None, 1, 1, 128)        0         \n",
      " 2D)                                                             \n",
      "                                                                 \n",
      " flatten (Flatten)           (None, 128)               0         \n",
      "                                                                 \n",
      " dense (Dense)               (None, 4096)              528384    \n",
      "                                                                 \n",
      " dense_1 (Dense)             (None, 4096)              16781312  \n",
      "                                                                 \n",
      " dense_2 (Dense)             (None, 1)                 4097      \n",
      "                                                                 \n",
      "=================================================================\n",
      "Total params: 17,840,449\n",
      "Trainable params: 17,840,449\n",
      "Non-trainable params: 0\n",
      "_________________________________________________________________\n",
      "None\n"
     ]
    },
    {
     "name": "stderr",
     "output_type": "stream",
     "text": [
      "/home/ec2-user/anaconda3/envs/tensorflow2_p38/lib/python3.8/site-packages/keras/optimizer_v2/adam.py:105: UserWarning: The `lr` argument is deprecated, use `learning_rate` instead.\n",
      "  super(Adam, self).__init__(name, **kwargs)\n"
     ]
    }
   ],
   "source": [
    "import keras\n",
    "model = vgg16(input_shape,num_classes)\n",
    "\n",
    "# Compile model\n",
    "\n",
    "# optimizer = SGD(lr=lrate, momentum=0.9, decay=decay, nesterov=False)\n",
    "optimizer = Adam(lr=0.001, beta_1=0.9, beta_2=0.999, amsgrad=False)\n",
    "model.compile(optimizer=optimizer,\n",
    "              loss=keras.losses.BinaryCrossentropy(label_smoothing = 0.65),\n",
    "              metrics=[keras.metrics.BinaryAccuracy()])\n",
    "print(\"Model Summary of \",model_type)\n",
    "print(model.summary())\n",
    "\n"
   ]
  },
  {
   "cell_type": "code",
   "execution_count": 15,
   "metadata": {
    "colab": {
     "base_uri": "https://localhost:8080/"
    },
    "id": "AIEd9V4KMYR7",
    "outputId": "0404b2c8-731b-4eb7-9c50-d4d6ae31de17",
    "pycharm": {
     "name": "#%%\n"
    }
   },
   "outputs": [
    {
     "name": "stdout",
     "output_type": "stream",
     "text": [
      "Learning rate:  0.001\n",
      "Epoch 1/200\n",
      "372/372 [==============================] - ETA: 0s - loss: 0.6579 - binary_accuracy: 0.8266WARNING:tensorflow:Can save best model only with val_acc available, skipping.\n",
      "372/372 [==============================] - 6s 9ms/step - loss: 0.6579 - binary_accuracy: 0.8266 - val_loss: 0.6419 - val_binary_accuracy: 0.9410 - lr: 0.0010\n",
      "Learning rate:  0.001\n",
      "Epoch 2/200\n",
      "372/372 [==============================] - ETA: 0s - loss: 0.6423 - binary_accuracy: 0.9417WARNING:tensorflow:Can save best model only with val_acc available, skipping.\n",
      "372/372 [==============================] - 2s 6ms/step - loss: 0.6423 - binary_accuracy: 0.9417 - val_loss: 0.6391 - val_binary_accuracy: 0.9581 - lr: 0.0010\n",
      "Learning rate:  0.001\n",
      "Epoch 3/200\n",
      "369/372 [============================>.] - ETA: 0s - loss: 0.6393 - binary_accuracy: 0.9571WARNING:tensorflow:Can save best model only with val_acc available, skipping.\n",
      "372/372 [==============================] - 2s 6ms/step - loss: 0.6394 - binary_accuracy: 0.9571 - val_loss: 0.6363 - val_binary_accuracy: 0.9719 - lr: 0.0010\n",
      "Learning rate:  0.001\n",
      "Epoch 4/200\n",
      "370/372 [============================>.] - ETA: 0s - loss: 0.6387 - binary_accuracy: 0.9595WARNING:tensorflow:Can save best model only with val_acc available, skipping.\n",
      "372/372 [==============================] - 2s 6ms/step - loss: 0.6387 - binary_accuracy: 0.9595 - val_loss: 0.6357 - val_binary_accuracy: 0.9733 - lr: 0.0010\n",
      "Learning rate:  0.001\n",
      "Epoch 5/200\n",
      "370/372 [============================>.] - ETA: 0s - loss: 0.6378 - binary_accuracy: 0.9640WARNING:tensorflow:Can save best model only with val_acc available, skipping.\n",
      "372/372 [==============================] - 2s 6ms/step - loss: 0.6378 - binary_accuracy: 0.9639 - val_loss: 0.6357 - val_binary_accuracy: 0.9757 - lr: 0.0010\n",
      "Learning rate:  0.001\n",
      "Epoch 6/200\n",
      "370/372 [============================>.] - ETA: 0s - loss: 0.6372 - binary_accuracy: 0.9672WARNING:tensorflow:Can save best model only with val_acc available, skipping.\n",
      "372/372 [==============================] - 2s 6ms/step - loss: 0.6372 - binary_accuracy: 0.9672 - val_loss: 0.6356 - val_binary_accuracy: 0.9762 - lr: 0.0010\n",
      "Learning rate:  0.001\n",
      "Epoch 7/200\n",
      "367/372 [============================>.] - ETA: 0s - loss: 0.6374 - binary_accuracy: 0.9666WARNING:tensorflow:Can save best model only with val_acc available, skipping.\n",
      "372/372 [==============================] - 2s 6ms/step - loss: 0.6374 - binary_accuracy: 0.9669 - val_loss: 0.6357 - val_binary_accuracy: 0.9752 - lr: 0.0010\n",
      "Learning rate:  0.001\n",
      "Epoch 8/200\n",
      "371/372 [============================>.] - ETA: 0s - loss: 0.6370 - binary_accuracy: 0.9670WARNING:tensorflow:Can save best model only with val_acc available, skipping.\n",
      "372/372 [==============================] - 2s 7ms/step - loss: 0.6370 - binary_accuracy: 0.9671 - val_loss: 0.6350 - val_binary_accuracy: 0.9781 - lr: 0.0010\n",
      "Learning rate:  0.001\n",
      "Epoch 9/200\n",
      "370/372 [============================>.] - ETA: 0s - loss: 0.6369 - binary_accuracy: 0.9684WARNING:tensorflow:Can save best model only with val_acc available, skipping.\n",
      "372/372 [==============================] - 2s 6ms/step - loss: 0.6369 - binary_accuracy: 0.9684 - val_loss: 0.6351 - val_binary_accuracy: 0.9800 - lr: 0.0010\n",
      "Learning rate:  0.001\n",
      "Epoch 10/200\n",
      "370/372 [============================>.] - ETA: 0s - loss: 0.6367 - binary_accuracy: 0.9684WARNING:tensorflow:Can save best model only with val_acc available, skipping.\n",
      "372/372 [==============================] - 2s 6ms/step - loss: 0.6367 - binary_accuracy: 0.9686 - val_loss: 0.6363 - val_binary_accuracy: 0.9738 - lr: 0.0010\n",
      "Learning rate:  0.001\n",
      "Epoch 11/200\n",
      "370/372 [============================>.] - ETA: 0s - loss: 0.6364 - binary_accuracy: 0.9718WARNING:tensorflow:Can save best model only with val_acc available, skipping.\n",
      "372/372 [==============================] - 2s 6ms/step - loss: 0.6364 - binary_accuracy: 0.9718 - val_loss: 0.6354 - val_binary_accuracy: 0.9748 - lr: 0.0010\n",
      "Learning rate:  0.001\n",
      "Epoch 12/200\n",
      "370/372 [============================>.] - ETA: 0s - loss: 0.6365 - binary_accuracy: 0.9703WARNING:tensorflow:Can save best model only with val_acc available, skipping.\n",
      "372/372 [==============================] - 2s 6ms/step - loss: 0.6365 - binary_accuracy: 0.9703 - val_loss: 0.6354 - val_binary_accuracy: 0.9762 - lr: 0.0010\n",
      "Learning rate:  0.001\n",
      "Epoch 13/200\n",
      "370/372 [============================>.] - ETA: 0s - loss: 0.6364 - binary_accuracy: 0.9713WARNING:tensorflow:Can save best model only with val_acc available, skipping.\n",
      "372/372 [==============================] - 2s 6ms/step - loss: 0.6364 - binary_accuracy: 0.9713 - val_loss: 0.6347 - val_binary_accuracy: 0.9800 - lr: 0.0010\n",
      "66/66 [==============================] - 0s 3ms/step - loss: 0.6350 - binary_accuracy: 0.9781\n",
      "Test loss: 0.6350127458572388\n",
      "Test accuracy: 0.9780952334403992\n"
     ]
    }
   ],
   "source": [
    "# Score trained model.\n",
    "history = model.fit(X_train, y_train,\n",
    "      batch_size=batch_size,\n",
    "      epochs=epochs,\n",
    "      validation_data=(X_test, y_test),\n",
    "      shuffle=True,\n",
    "      callbacks=callbacks)\n",
    "scores = model.evaluate(X_test, y_test, verbose=1)\n",
    "print('Test loss:', scores[0])\n",
    "print('Test accuracy:', scores[1])"
   ]
  },
  {
   "cell_type": "code",
   "execution_count": 16,
   "metadata": {
    "colab": {
     "base_uri": "https://localhost:8080/",
     "height": 591
    },
    "id": "T95kj0_iP54_",
    "outputId": "2cc8526c-b5d9-4631-d6fe-23c21b354a52",
    "pycharm": {
     "name": "#%%\n"
    }
   },
   "outputs": [
    {
     "name": "stdout",
     "output_type": "stream",
     "text": [
      "dict_keys(['loss', 'binary_accuracy', 'val_loss', 'val_binary_accuracy', 'lr'])\n"
     ]
    },
    {
     "data": {
      "image/png": "[encoded data removed]",
      "text/plain": [
       "<Figure size 432x288 with 1 Axes>"
      ]
     },
     "metadata": {
      "needs_background": "light"
     },
     "output_type": "display_data"
    },
    {
     "data": {
      "image/png": "[encoded data removed]",
      "text/plain": [
       "<Figure size 432x288 with 1 Axes>"
      ]
     },
     "metadata": {
      "needs_background": "light"
     },
     "output_type": "display_data"
    }
   ],
   "source": [
    "# list all data in history\n",
    "print(history.history.keys())\n",
    "# summarize history for accuracy\n",
    "plt.plot(history.history['binary_accuracy'])\n",
    "plt.plot(history.history['val_binary_accuracy'])\n",
    "plt.title('model accuracy')\n",
    "plt.ylabel('accuracy')\n",
    "plt.xlabel('epoch')\n",
    "plt.legend(['train', 'test'], loc='upper left')\n",
    "plt.show()\n",
    "# summarize history for loss\n",
    "plt.plot(history.history['loss'])\n",
    "plt.plot(history.history['val_loss'])\n",
    "plt.title('model loss')\n",
    "plt.ylabel('loss')\n",
    "plt.xlabel('epoch')\n",
    "plt.legend(['train', 'test'], loc='upper left')\n",
    "plt.show()"
   ]
  },
  {
   "cell_type": "code",
   "execution_count": 17,
   "metadata": {
    "colab": {
     "base_uri": "https://localhost:8080/",
     "height": 331
    },
    "id": "rwZbKegwmPcU",
    "outputId": "2da028cf-b194-42f3-ece5-e3dd3c2734ed",
    "pycharm": {
     "name": "#%%\n"
    }
   },
   "outputs": [
    {
     "data": {
      "image/png": "[encoded data removed]",
      "text/plain": [
       "<Figure size 432x288 with 1 Axes>"
      ]
     },
     "metadata": {
      "needs_background": "light"
     },
     "output_type": "display_data"
    },
    {
     "name": "stdout",
     "output_type": "stream",
     "text": [
      "0.9974131204064967\n"
     ]
    }
   ],
   "source": [
    "from sklearn.metrics import roc_curve, auc\n",
    "\n",
    "y_pred = model.predict(X_test).ravel()\n",
    "\n",
    "nn_fpr_keras, nn_tpr_keras, nn_thresholds_keras = roc_curve(y_test, y_pred)\n",
    "auc_keras = auc(nn_fpr_keras, nn_tpr_keras)\n",
    "plt.plot(nn_fpr_keras, nn_tpr_keras, marker='.', label='Neural Network (auc = %0.3f)' % auc_keras)\n",
    "plt.title('ROC Curve')\n",
    "plt.ylabel('TPR')\n",
    "plt.xlabel('FPR')\n",
    "plt.show()\n",
    "\n",
    "print(auc_keras)\n"
   ]
  },
  {
   "cell_type": "code",
   "execution_count": 18,
   "metadata": {
    "colab": {
     "base_uri": "https://localhost:8080/",
     "height": 283
    },
    "id": "LDPz4LZ932Fh",
    "outputId": "bf7e31e1-ac1f-45dc-8e48-ec41f496bf3d",
    "pycharm": {
     "name": "#%%\n"
    }
   },
   "outputs": [
    {
     "data": {
      "image/png": "[encoded data removed]",
      "text/plain": [
       "<Figure size 432x288 with 1 Axes>"
      ]
     },
     "metadata": {
      "needs_background": "light"
     },
     "output_type": "display_data"
    }
   ],
   "source": [
    "from matplotlib import pyplot\n",
    "predict_x=model.predict(X_test) \n",
    "\n",
    "Sneaker_index = np.where(y_test.reshape(-1) == 0.)\n",
    "Sneaker = predict_x[Sneaker_index]\n",
    "\n",
    "boot_index = np.where(y_test.reshape(-1) == 1.)\n",
    "boot = predict_x[boot_index]\n",
    "\n",
    "\n",
    "\n",
    "bins = np.linspace(0, 1, 50)\n",
    "\n",
    "pyplot.hist(Sneaker, bins, alpha=0.5, label='Sneaker')\n",
    "pyplot.hist(boot, bins, alpha=0.5, label='boot')\n",
    "pyplot.legend(loc='upper right')\n",
    "pyplot.show()"
   ]
  },
  {
   "cell_type": "code",
   "execution_count": 19,
   "metadata": {
    "pycharm": {
     "name": "#%%\n"
    }
   },
   "outputs": [
    {
     "data": {
      "text/plain": [
       "1070"
      ]
     },
     "execution_count": 19,
     "metadata": {},
     "output_type": "execute_result"
    }
   ],
   "source": [
    "len(Sneaker)"
   ]
  },
  {
   "cell_type": "code",
   "execution_count": 20,
   "metadata": {
    "pycharm": {
     "name": "#%%\n"
    }
   },
   "outputs": [
    {
     "data": {
      "text/plain": [
       "1030"
      ]
     },
     "execution_count": 20,
     "metadata": {},
     "output_type": "execute_result"
    }
   ],
   "source": [
    "len(boot)"
   ]
  }
 ],
 "metadata": {
  "accelerator": "GPU",
  "colab": {
   "machine_shape": "hm",
   "provenance": []
  },
  "kernelspec": {
   "display_name": "conda_tensorflow2_p38",
   "language": "python",
   "name": "conda_tensorflow2_p38"
  },
  "language_info": {
   "codemirror_mode": {
    "name": "ipython",
    "version": 3
   },
   "file_extension": ".py",
   "mimetype": "text/x-python",
   "name": "python",
   "nbconvert_exporter": "python",
   "pygments_lexer": "ipython3",
   "version": "3.8.12"
  }
 },
 "nbformat": 4,
 "nbformat_minor": 4
}