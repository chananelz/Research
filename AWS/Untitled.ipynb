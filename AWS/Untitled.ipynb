{
 "cells": [
  {
   "cell_type": "code",
   "execution_count": 1,
   "id": "fa351f9e",
   "metadata": {},
   "outputs": [
    {
     "name": "stdout",
     "output_type": "stream",
     "text": [
      "mkdir: cannot create directory ‘../data’: File exists\n",
      "--2022-11-20 19:18:50--  https://zenodo.org/record/2546921/files/camelyonpatch_level_2_split_test_x.h5.gz?download=1\n",
      "Resolving zenodo.org (zenodo.org)... 188.185.124.72\n",
      "Connecting to zenodo.org (zenodo.org)|188.185.124.72|:443... connected.\n",
      "HTTP request sent, awaiting response... 200 OK\n",
      "Length: 800875929 (764M) [application/octet-stream]\n",
      "Saving to: ‘../data/camelyonpatch_level_2_split_test_x.h5.gz’\n",
      "\n",
      "100%[======================================>] 800,875,929  823KB/s   in 13m 57s\n",
      "\n",
      "2022-11-20 19:32:48 (934 KB/s) - ‘../data/camelyonpatch_level_2_split_test_x.h5.gz’ saved [800875929/800875929]\n",
      "\n"
     ]
    }
   ],
   "source": [
    "# !mkdir ../data\n",
    "# !wget -O ../data/camelyonpatch_level_2_split_test_x.h5.gz https://zenodo.org/record/2546921/files/camelyonpatch_level_2_split_test_x.h5.gz?download=1"
   ]
  },
  {
   "cell_type": "code",
   "execution_count": 1,
   "id": "641e0c74",
   "metadata": {},
   "outputs": [
    {
     "name": "stdout",
     "output_type": "stream",
     "text": [
      "\u001b[33mWARNING: You are using pip version 22.0.4; however, version 22.3.1 is available.\n",
      "You should consider upgrading via the '/home/ec2-user/anaconda3/envs/python3/bin/python -m pip install --upgrade pip' command.\u001b[0m\u001b[33m\n",
      "\u001b[0mcp: cannot stat ‘kaggle.json’: No such file or directory\n",
      "chmod: cannot access ‘/root/.kaggle/kaggle.json’: Permission denied\n",
      "Traceback (most recent call last):\n",
      "  File \"/home/ec2-user/anaconda3/envs/python3/bin/kaggle\", line 5, in <module>\n",
      "    from kaggle.cli import main\n",
      "  File \"/home/ec2-user/anaconda3/envs/python3/lib/python3.8/site-packages/kaggle/__init__.py\", line 23, in <module>\n",
      "    api.authenticate()\n",
      "  File \"/home/ec2-user/anaconda3/envs/python3/lib/python3.8/site-packages/kaggle/api/kaggle_api_extended.py\", line 164, in authenticate\n",
      "    raise IOError('Could not find {}. Make sure it\\'s located in'\n",
      "OSError: Could not find kaggle.json. Make sure it's located in /home/ec2-user/.kaggle. Or use the environment method.\n",
      "unzip:  cannot find or open celeba-dataset.zip, celeba-dataset.zip.zip or celeba-dataset.zip.ZIP.\n"
     ]
    }
   ],
   "source": [
    "# !pip install -q kaggle\n",
    "# # from google.colab import files\n",
    "# # files.upload()\n",
    "# !mkdir -p ~/.kaggle\n",
    "# !cp kaggle.json ~/.kaggle/\n",
    "# !chmod 600 /root/.kaggle/kaggle.json\n",
    "# !kaggle datasets download jessicali9530/celeba-dataset\n",
    "# !unzip -d dataset celeba-dataset.zip"
   ]
  },
  {
   "cell_type": "code",
   "execution_count": null,
   "id": "049a5240",
   "metadata": {},
   "outputs": [],
   "source": [
    "MAIN_PATH = 'datasets/kaggle/dataset/'\n",
    "DATA_PATH = MAIN_PATH + 'img_align_celeba/img_align_celeba/'\n",
    "ATTRIBUTE_PATH = MAIN_PATH + 'list_attr_celeba.csv'\n",
    "PARTITION_PATH = MAIN_PATH + 'list_eval_partition.csv'"
   ]
  }
 ],
 "metadata": {
  "kernelspec": {
   "display_name": "conda_python3",
   "language": "python",
   "name": "conda_python3"
  },
  "language_info": {
   "codemirror_mode": {
    "name": "ipython",
    "version": 3
   },
   "file_extension": ".py",
   "mimetype": "text/x-python",
   "name": "python",
   "nbconvert_exporter": "python",
   "pygments_lexer": "ipython3",
   "version": "3.8.12"
  }
 },
 "nbformat": 4,
 "nbformat_minor": 5
}
