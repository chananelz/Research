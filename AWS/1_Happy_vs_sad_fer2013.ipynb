{
 "cells": [
  {
   "cell_type": "code",
   "execution_count": 20,
   "metadata": {
    "id": "nFo7ozRa2M05"
   },
   "outputs": [],
   "source": [
    "import numpy as np\n",
    "import pandas as pd\n",
    "from tensorflow import keras\n",
    "from matplotlib import pyplot as plt\n",
    "import tensorflow as tf\n",
    "from tensorflow.keras.models import Sequential\n",
    "from tensorflow.keras.layers import Dense,Conv2D,Flatten,MaxPooling2D,Dropout,BatchNormalization\n",
    "from tensorflow.keras.utils import to_categorical\n",
    "from tensorflow.keras.optimizers import Adam\n",
    "from keras.utils import np_utils\n",
    "import os\n",
    "import random\n",
    "from keras.callbacks import EarlyStopping\n",
    "from keras.callbacks import ModelCheckpoint, LearningRateScheduler\n",
    "from keras.callbacks import ReduceLROnPlateau\n",
    "from keras.layers import Add, Dense, Activation, BatchNormalization, Conv2D\n",
    "from keras.utils import np_utils\n",
    "from keras.initializers import glorot_uniform\n",
    "%matplotlib inline\n"
   ]
  },
  {
   "cell_type": "code",
   "execution_count": 21,
   "metadata": {
    "colab": {
     "base_uri": "https://localhost:8080/"
    },
    "id": "s-69S6diOHMA",
    "outputId": "41e3988d-6300-444d-e8c1-2f6202b139c1"
   },
   "outputs": [
    {
     "name": "stdout",
     "output_type": "stream",
     "text": [
      "mkdir: cannot create directory ‘../data’: File exists\n",
      "--2022-11-22 11:42:08--  https://www.dropbox.com/s/zi48lkarsg4kbry/fer2013.csv?dl=1\n",
      "Resolving www.dropbox.com (www.dropbox.com)... 162.125.6.18, 2620:100:601c:18::a27d:612\n",
      "Connecting to www.dropbox.com (www.dropbox.com)|162.125.6.18|:443... connected.\n",
      "HTTP request sent, awaiting response... 302 Found\n",
      "Location: /s/dl/zi48lkarsg4kbry/fer2013.csv [following]\n",
      "--2022-11-22 11:42:08--  https://www.dropbox.com/s/dl/zi48lkarsg4kbry/fer2013.csv\n",
      "Reusing existing connection to www.dropbox.com:443.\n",
      "HTTP request sent, awaiting response... 302 Found\n",
      "Location: https://uc90ad563e8ef315c07c4945d55a.dl.dropboxusercontent.com/cd/0/get/BxOwsj0vNHJMx-Fyq7Rcwv9gCe84ICPCNIh5J37r0iZIDGTpGW2lzg4aivt9DyvSl68CgSUJPRK8eRdzqbfTC5iR50IWT4IAhKZTk6uWa02B6bh5mpkMvu14xW2U3R_Hm72TsXoTki9TsxTWUUV0srhs9DdmQMwhOqjnIl60RQKiMw/file?dl=1# [following]\n",
      "--2022-11-22 11:42:09--  https://uc90ad563e8ef315c07c4945d55a.dl.dropboxusercontent.com/cd/0/get/BxOwsj0vNHJMx-Fyq7Rcwv9gCe84ICPCNIh5J37r0iZIDGTpGW2lzg4aivt9DyvSl68CgSUJPRK8eRdzqbfTC5iR50IWT4IAhKZTk6uWa02B6bh5mpkMvu14xW2U3R_Hm72TsXoTki9TsxTWUUV0srhs9DdmQMwhOqjnIl60RQKiMw/file?dl=1\n",
      "Resolving uc90ad563e8ef315c07c4945d55a.dl.dropboxusercontent.com (uc90ad563e8ef315c07c4945d55a.dl.dropboxusercontent.com)... 162.125.6.15, 2620:100:601c:15::a27d:60f\n",
      "Connecting to uc90ad563e8ef315c07c4945d55a.dl.dropboxusercontent.com (uc90ad563e8ef315c07c4945d55a.dl.dropboxusercontent.com)|162.125.6.15|:443... connected.\n",
      "HTTP request sent, awaiting response... 200 OK\n",
      "Length: 301072766 (287M) [application/binary]\n",
      "Saving to: ‘../data/fer2013.csv’\n",
      "\n",
      "100%[======================================>] 301,072,766  192MB/s   in 1.5s   \n",
      "\n",
      "2022-11-22 11:42:11 (192 MB/s) - ‘../data/fer2013.csv’ saved [301072766/301072766]\n",
      "\n"
     ]
    }
   ],
   "source": [
    "!mkdir ../data\n",
    "!wget -O ../data/fer2013.csv https://www.dropbox.com/s/zi48lkarsg4kbry/fer2013.csv\\?dl\\=1"
   ]
  },
  {
   "cell_type": "code",
   "execution_count": 22,
   "metadata": {
    "id": "6DRMgKSgdalK"
   },
   "outputs": [],
   "source": [
    "num_classes=2\n",
    "input_shape=(48,48,1)\n",
    "model_name = \"fer2013\"\n",
    "model_type = \"fer2013\"\n",
    "epochs = 200\n",
    "lrate = 0.01\n",
    "decay = lrate/epochs\n",
    "batch_size = 32\n"
   ]
  },
  {
   "cell_type": "code",
   "execution_count": 23,
   "metadata": {
    "id": "mteWRnC9OhRU"
   },
   "outputs": [],
   "source": [
    "\n",
    "def load_dataset(net=True):\n",
    "    \"\"\"Utility function to load the FER2013 dataset.\n",
    "    \n",
    "    It returns the formated tuples (X_train, y_train) , (X_test, y_test).\n",
    "\n",
    "    Parameters\n",
    "    ==========\n",
    "    net : boolean\n",
    "        This parameter is used to reshape the data from images in \n",
    "        (cols, rows, channels) format. In case that it is False, a standard\n",
    "        format (cols, rows) is used.\n",
    "    \"\"\"\n",
    "\n",
    "    # Load and filter in Training/not Training data:\n",
    "    df = pd.read_csv('../data/fer2013.csv')\n",
    "    training = df.loc[df['Usage'] == 'Training']\n",
    "    testing = df.loc[df['Usage'] != 'Training']\n",
    "\n",
    "    # X_train values:\n",
    "    X_train = training[['pixels']].values\n",
    "    X_train = [np.fromstring(e[0], dtype=int, sep=' ') for e in X_train]\n",
    "    if net:\n",
    "        X_train = [e.reshape((48, 48, 1)).astype('float32') for e in X_train]\n",
    "    else:\n",
    "        X_train = [e.reshape((48, 48)) for e in X_train]\n",
    "    X_train = np.array(X_train)\n",
    "\n",
    "    # X_test values:\n",
    "    X_test = testing[['pixels']].values\n",
    "    X_test = [np.fromstring(e[0], dtype=int, sep=' ') for e in X_test]\n",
    "    if net:\n",
    "        X_test = [e.reshape((48, 48, 1)).astype('float32') for e in X_test]\n",
    "    else:\n",
    "        X_test = [e.reshape((48, 48)) for e in X_test]\n",
    "    X_test = np.array(X_test)\n",
    "\n",
    "    # y_train values:\n",
    "    y_train = training[['emotion']].values\n",
    "    # y_train = keras.utils.to_categorical(y_train)\n",
    "\n",
    "    # y_test values\n",
    "    y_test = testing[['emotion']].values\n",
    "    # y_test = keras.utils.to_categorical(y_test)\n",
    "\n",
    "    return (X_train, y_train) , (X_test, y_test)"
   ]
  },
  {
   "cell_type": "code",
   "execution_count": null,
   "metadata": {
    "colab": {
     "base_uri": "https://localhost:8080/"
    },
    "id": "XPUHtC3iOqvP",
    "outputId": "1d282734-a515-49a7-fec4-3ba6d3340566"
   },
   "outputs": [],
   "source": [
    "(X_train, y_train) , (X_test, y_test) = load_dataset()\n",
    "print(y_train.shape, y_test.shape)\n",
    "print(X_train.shape, X_test.shape)"
   ]
  },
  {
   "cell_type": "code",
   "execution_count": null,
   "metadata": {
    "colab": {
     "base_uri": "https://localhost:8080/",
     "height": 873
    },
    "id": "_6lBG-fhO5ei",
    "outputId": "3f21ad3c-8b83-4841-b9c5-f84649734c40"
   },
   "outputs": [],
   "source": [
    "class_names=[\"Angry\",\"Disgust\",\"Fear\",\"Happy\",\"Sad\",\"Surprise\",\"Neutral\"]\n",
    "plt.style.use('ggplot')\n",
    "\n",
    "plt.figure(figsize=(12, 12))\n",
    "for i in range(16):\n",
    "    j = random.randint(0,28709) \n",
    "    plt.subplot(4, 4, i + 1)\n",
    "    plt.imshow(X_train[j].reshape((48, 48)), cmap=\"gray\")\n",
    "    plt.title(\"{}\".format(class_names[y_train[j][0]]), fontsize=12)\n",
    "    plt.axis('off')\n",
    "    plt.tight_layout()\n"
   ]
  },
  {
   "cell_type": "code",
   "execution_count": null,
   "metadata": {
    "colab": {
     "base_uri": "https://localhost:8080/"
    },
    "id": "jZKUeGi4T_Is",
    "outputId": "9d43421e-9384-42f6-d711-6f5ebb24f207"
   },
   "outputs": [],
   "source": [
    "class_3_index = np.where(y_train.reshape(-1) == 3)\n",
    "X_train_class_3 = X_train[class_3_index]\n",
    "y_train_class_3 = y_train[class_3_index]\n",
    "\n",
    "\n",
    "\n",
    "class_4_index = np.where(y_train.reshape(-1) == 4)\n",
    "X_train_class_4 = X_train[class_4_index]\n",
    "y_train_class_4 = y_train[class_4_index]\n",
    "\n",
    "\n",
    "\n",
    "X_train = np.concatenate((X_train_class_3, X_train_class_4))\n",
    "y_train = np.concatenate((y_train_class_3, y_train_class_4)).reshape(-1,1)\n",
    "\n",
    "# ---------------------------------------------------------------------------\n",
    "\n",
    "class_3_index = np.where(y_test.reshape(-1) == 3)\n",
    "X_test_class_3 = X_test[class_3_index]\n",
    "y_test_class_3 = y_test[class_3_index]\n",
    "\n",
    "class_4_index = np.where(y_test.reshape(-1) == 4)\n",
    "X_test_class_4 = X_test[class_4_index]\n",
    "y_test_class_4 = y_test[class_4_index]\n",
    "\n",
    "\n",
    "X_test = np.concatenate((X_test_class_3, X_test_class_4))\n",
    "y_test = np.concatenate((y_test_class_3, y_test_class_4)).reshape(-1,1)\n",
    "\n",
    "\n",
    "print(y_train.shape, y_test.shape)\n",
    "print(X_train.shape, X_test.shape)\n"
   ]
  },
  {
   "cell_type": "code",
   "execution_count": null,
   "metadata": {
    "colab": {
     "base_uri": "https://localhost:8080/",
     "height": 891
    },
    "id": "inhgVh2hvG75",
    "outputId": "0436bb6a-78b2-41bb-e03c-c69d3b86b455"
   },
   "outputs": [],
   "source": [
    "print(\"__________________train_____________________\")\n",
    "plt.figure(figsize=(12, 12))\n",
    "for i in range(16):\n",
    "    j = random.randint(0,12045) \n",
    "    plt.subplot(4, 4, i + 1)\n",
    "    plt.imshow(X_train[j].reshape((48, 48)), cmap=\"gray\")\n",
    "    plt.title(\"{}\".format(class_names[y_train[j][0]]), fontsize=12)\n",
    "    plt.axis('off')\n",
    "    plt.tight_layout()\n"
   ]
  },
  {
   "cell_type": "code",
   "execution_count": null,
   "metadata": {
    "colab": {
     "base_uri": "https://localhost:8080/",
     "height": 891
    },
    "id": "YI6VY-9Mu_YG",
    "outputId": "078ccaaf-2d66-46c9-f9fe-fee23a84eb0e"
   },
   "outputs": [],
   "source": [
    "print(\"___________________________________test___________________________\")\n",
    "plt.figure(figsize=(12, 12))\n",
    "for i in range(16):\n",
    "    j = random.randint(0,3021) \n",
    "    plt.subplot(4, 4, i + 1)\n",
    "    plt.imshow(X_test[j].reshape((48, 48)), cmap=\"gray\")\n",
    "    plt.title(\"{}\".format(class_names[y_test[j][0]]), fontsize=12)\n",
    "    plt.axis('off')\n",
    "    plt.tight_layout()"
   ]
  },
  {
   "cell_type": "code",
   "execution_count": null,
   "metadata": {
    "colab": {
     "base_uri": "https://localhost:8080/"
    },
    "id": "iuUxfuvAajgk",
    "outputId": "0093f84c-7dfa-4e41-fa0f-9e59bf292203"
   },
   "outputs": [],
   "source": [
    "y_train = np.where(y_train > 3, 1, 0)\n",
    "y_test = np.where(y_test > 3, 1, 0)\n",
    "class_names = ['Happy',  'Sad']\n",
    "\n",
    "print(y_train.shape, y_test.shape)"
   ]
  },
  {
   "cell_type": "code",
   "execution_count": null,
   "metadata": {
    "colab": {
     "base_uri": "https://localhost:8080/"
    },
    "id": "XjATa5-GawoK",
    "outputId": "8d9c432a-6d95-4400-eea0-655d64aabca1"
   },
   "outputs": [],
   "source": [
    "from sklearn.model_selection import train_test_split\n",
    "from sklearn.utils import shuffle\n",
    "\n",
    "X = np.concatenate((X_test, X_train))\n",
    "Y = np.concatenate((y_test, y_train)).reshape(-1,1)\n",
    "\n",
    "# X, y = shuffle(X, Y, random_state=0)\n",
    "\n",
    "X_train, X_test, y_train, y_test = train_test_split(X, Y, test_size=0.15)\n",
    "\n",
    "print(y_train.shape, y_test.shape)\n",
    "print(X_train.shape, X_test.shape)\n",
    "\n"
   ]
  },
  {
   "cell_type": "code",
   "execution_count": null,
   "metadata": {
    "colab": {
     "base_uri": "https://localhost:8080/",
     "height": 891
    },
    "id": "_wUZa7THunvq",
    "outputId": "3ed844ae-cbcd-4915-ca01-87c8168c6b57"
   },
   "outputs": [],
   "source": [
    "\n",
    "print(\"__________________train_____________________\")\n",
    "plt.figure(figsize=(12, 12))\n",
    "for i in range(16):\n",
    "    j = random.randint(0,12806) \n",
    "    plt.subplot(4, 4, i + 1)\n",
    "    plt.imshow(X_train[j].reshape((48, 48)), cmap=\"gray\")\n",
    "    plt.title(\"{}\".format(class_names[y_train[j][0]]), fontsize=12)\n",
    "    plt.axis('off')\n",
    "    plt.tight_layout()\n"
   ]
  },
  {
   "cell_type": "code",
   "execution_count": null,
   "metadata": {
    "colab": {
     "base_uri": "https://localhost:8080/",
     "height": 891
    },
    "id": "ElF_8r5Wuo9W",
    "outputId": "a8b00bb7-5a33-428a-bc0c-50451d8bee9c"
   },
   "outputs": [],
   "source": [
    "print(\"___________________________________test___________________________\")\n",
    "plt.figure(figsize=(12, 12))\n",
    "for i in range(16):\n",
    "    j = random.randint(0,2260) \n",
    "    plt.subplot(4, 4, i + 1)\n",
    "    plt.imshow(X_test[j].reshape((48, 48)), cmap=\"gray\")\n",
    "    plt.title(\"{}\".format(class_names[y_test[j][0]]), fontsize=12)\n",
    "    plt.axis('off')\n",
    "    plt.tight_layout()"
   ]
  },
  {
   "cell_type": "code",
   "execution_count": null,
   "metadata": {
    "colab": {
     "base_uri": "https://localhost:8080/"
    },
    "id": "w9B1i4jYa29t",
    "outputId": "5f29b68e-abd7-4d25-c20c-bd8046b330c5"
   },
   "outputs": [],
   "source": [
    "X_train = X_train.astype('float32')\n",
    "X_test = X_test.astype('float32')\n",
    "X_train = X_train / 255.\n",
    "X_test = X_test / 255.\n",
    "\n",
    "X_train_mean = np.mean(X_train)\n",
    "X_train -= X_train_mean\n",
    "X_test_mean = np.mean(X_test)\n",
    "X_test -= X_test_mean\n",
    "\n",
    "y_train = np_utils.to_categorical(y_train,)\n",
    "y_test = np_utils.to_categorical(y_test,)\n",
    "y_train = np.delete(y_train,1,1)\n",
    "y_test = np.delete(y_test,1,1)\n",
    "\n",
    "print(y_train.shape, y_test.shape)\n",
    "print(X_train.shape, X_test.shape)"
   ]
  },
  {
   "cell_type": "code",
   "execution_count": null,
   "metadata": {
    "id": "6M8VhWTcvXKN"
   },
   "outputs": [],
   "source": [
    "# print(\"__________________train_____________________\")\n",
    "# plt.figure(figsize=(12, 12))\n",
    "# for i in range(16):\n",
    "#     j = random.randint(0,12045) \n",
    "#     plt.subplot(4, 4, i + 1)\n",
    "#     plt.imshow(X_train[j].reshape((48, 48)), cmap=\"gray\")\n",
    "#     plt.title(\"{}\".format(class_names[int(y_train[j])]), fontsize=12)\n",
    "#     plt.axis('off')\n",
    "#     plt.tight_layout()"
   ]
  },
  {
   "cell_type": "code",
   "execution_count": null,
   "metadata": {
    "id": "8Kcn954hvSow"
   },
   "outputs": [],
   "source": [
    "# print(\"___________________________________test___________________________\")\n",
    "# plt.figure(figsize=(12, 12))\n",
    "# for i in range(16):\n",
    "#     j = random.randint(0,3021) \n",
    "#     plt.subplot(4, 4, i + 1)\n",
    "#     plt.imshow(X_test[j].reshape((48, 48)), cmap=\"gray\")\n",
    "#     plt.title(\"{}\".format(class_names[y_test[j][0]]), fontsize=12)\n",
    "#     plt.axis('off')\n",
    "#     plt.tight_layout()"
   ]
  },
  {
   "cell_type": "code",
   "execution_count": null,
   "metadata": {},
   "outputs": [],
   "source": [
    "import seaborn as sns\n",
    "\n",
    "plt.title('Distribution')\n",
    "sns.countplot(y = 0, data=pd.DataFrame(y_train))\n",
    "plt.show()"
   ]
  },
  {
   "cell_type": "code",
   "execution_count": null,
   "metadata": {
    "id": "RJ4rUx8Ua6NQ"
   },
   "outputs": [],
   "source": [
    "from tensorflow.keras.layers import Dropout\n",
    "def vgg16(input_shape=(48,48,1), num_classes=2):\n",
    "  model = Sequential()\n",
    "  model.add(Conv2D(input_shape=input_shape,filters=64,kernel_size=(3,3),padding=\"same\", activation=\"relu\"))\n",
    "  model.add(Conv2D(filters=64,kernel_size=(3,3),padding=\"same\", activation=\"relu\"))\n",
    "  model.add(MaxPooling2D(pool_size=(2,2),strides=(2,2)))\n",
    "\n",
    "\n",
    "  model.add(Dropout(0.8))\n",
    "\n",
    "  model.add(Conv2D(filters=8, kernel_size=(3,3), padding=\"same\", activation=\"relu\"))\n",
    "  model.add(Conv2D(filters=8, kernel_size=(3,3), padding=\"same\", activation=\"relu\"))\n",
    "  model.add(MaxPooling2D(pool_size=(2,2),strides=(2,2)))\n",
    "\n",
    "  model.add(Conv2D(filters=16, kernel_size=(3,3), padding=\"same\", activation=\"relu\"))\n",
    "  model.add(Conv2D(filters=16, kernel_size=(3,3), padding=\"same\", activation=\"relu\"))\n",
    "  model.add(Conv2D(filters=16, kernel_size=(3,3), padding=\"same\", activation=\"relu\"))\n",
    "  model.add(MaxPooling2D(pool_size=(2,2),strides=(2,2)))\n",
    "\n",
    "  # model.add(Conv2D(filters=64, kernel_size=(3,3), padding=\"same\", activation=\"relu\"))\n",
    "  # model.add(Conv2D(filters=64, kernel_size=(3,3), padding=\"same\", activation=\"relu\"))\n",
    "  # model.add(Conv2D(filters=64, kernel_size=(3,3), padding=\"same\", activation=\"relu\"))\n",
    "  # model.add(MaxPooling2D(pool_size=(2,2),strides=(2,2)))\n",
    "\n",
    "  # model.add(Conv2D(filters=512, kernel_size=(3,3), padding=\"same\", activation=\"relu\"))\n",
    "  # model.add(Conv2D(filters=512, kernel_size=(3,3), padding=\"same\", activation=\"relu\"))\n",
    "  # model.add(Conv2D(filters=512, kernel_size=(3,3), padding=\"same\", activation=\"relu\"))\n",
    "  # model.add(MaxPooling2D(pool_size=(2,2),strides=(2,2)))\n",
    "\n",
    "  model.add(Flatten())\n",
    "  model.add(Dense(units=4096,activation=\"relu\"))\n",
    "  model.add(Dense(units=4096,activation=\"relu\"))\n",
    "  model.add(Dense(units=1, activation=\"sigmoid\"))\n",
    "\n",
    "  return model"
   ]
  },
  {
   "cell_type": "code",
   "execution_count": null,
   "metadata": {
    "id": "yAjDgtB3a8rG"
   },
   "outputs": [],
   "source": [
    "def lr_schedule(epoch):\n",
    "    \"\"\"Learning Rate Schedule\n",
    "\n",
    "    Learning rate is scheduled to be reduced after 80, 120, 160, 180 epochs.\n",
    "    Called automatically every epoch as part of callbacks during training.\n",
    "\n",
    "    # Arguments\n",
    "        epoch (int): The number of epochs\n",
    "\n",
    "    # Returns\n",
    "        lr (float32): learning rate\n",
    "    \"\"\"\n",
    "    lr = 1e-3\n",
    "    if epoch > 180:\n",
    "        lr *= 0.5e-3\n",
    "    elif epoch > 160:\n",
    "        lr *= 1e-3\n",
    "    elif epoch > 120:\n",
    "        lr *= 1e-2\n",
    "    elif epoch > 80:\n",
    "        lr *= 1e-1\n",
    "    print('Learning rate: ', lr)\n",
    "    return lr\n"
   ]
  },
  {
   "cell_type": "code",
   "execution_count": null,
   "metadata": {
    "id": "U6-adb80a_IF"
   },
   "outputs": [],
   "source": [
    "# Prepare callbacks for model saving and for learning rate adjustment.\n",
    "\n",
    "early_stopping = EarlyStopping(monitor='val_loss', min_delta=0.001, patience=5, verbose=0, mode='auto', baseline=None, restore_best_weights=True)\n",
    "\n",
    "\n",
    "\n",
    "lr_scheduler = LearningRateScheduler(lr_schedule)\n",
    "\n",
    "lr_reducer = ReduceLROnPlateau(factor=np.sqrt(0.1),\n",
    "                               cooldown=0,\n",
    "                               patience=5,\n",
    "                               min_lr=0.5e-6)\n",
    "\n",
    "callbacks = [ lr_reducer, lr_scheduler,early_stopping]\n"
   ]
  },
  {
   "cell_type": "code",
   "execution_count": null,
   "metadata": {
    "colab": {
     "base_uri": "https://localhost:8080/"
    },
    "id": "3SgCqeJpbBkT",
    "outputId": "454de4d1-afc9-4053-d945-782eda437ca1"
   },
   "outputs": [],
   "source": [
    "model = vgg16(input_shape,num_classes)\n",
    "\n",
    "# Compile model\n",
    "\n",
    "optimizer = Adam(lr=0.001, beta_1=0.9, beta_2=0.999, amsgrad=False)\n",
    "model.compile(optimizer=optimizer,\n",
    "              loss=keras.losses.BinaryCrossentropy(label_smoothing = 0.1),\n",
    "              metrics=[keras.metrics.BinaryAccuracy()])\n",
    "print(\"Model Summary of \",model_type)\n",
    "print(model.summary())\n",
    "\n"
   ]
  },
  {
   "cell_type": "code",
   "execution_count": null,
   "metadata": {
    "colab": {
     "base_uri": "https://localhost:8080/"
    },
    "id": "cc2k6Gh4bFoT",
    "outputId": "14f55cf9-8efc-4211-e977-e5a76cea3c39"
   },
   "outputs": [],
   "source": [
    "# Score trained model.\n",
    "history = model.fit(X_train, y_train,\n",
    "      batch_size=batch_size,\n",
    "      epochs=epochs,\n",
    "      validation_data=(X_test, y_test),\n",
    "      shuffle=True,\n",
    "      callbacks=callbacks)\n",
    "scores = model.evaluate(X_test, y_test, verbose=1)\n",
    "print('Test loss:', scores[0])\n",
    "print('Test accuracy:', scores[1])"
   ]
  },
  {
   "cell_type": "code",
   "execution_count": null,
   "metadata": {
    "colab": {
     "base_uri": "https://localhost:8080/",
     "height": 599
    },
    "id": "2E_rdJbgbJIc",
    "outputId": "b6ffdd90-178c-4b19-eca5-cae44df4a7ef"
   },
   "outputs": [],
   "source": [
    "# list all data in history\n",
    "print(history.history.keys())\n",
    "# summarize history for accuracy\n",
    "plt.plot(history.history['binary_accuracy'])\n",
    "plt.plot(history.history['val_binary_accuracy'])\n",
    "plt.title('model accuracy')\n",
    "plt.ylabel('accuracy')\n",
    "plt.xlabel('epoch')\n",
    "plt.legend(['train', 'test'], loc='upper left')\n",
    "plt.show()\n",
    "# summarize history for loss\n",
    "plt.plot(history.history['loss'])\n",
    "plt.plot(history.history['val_loss'])\n",
    "plt.title('model loss')\n",
    "plt.ylabel('loss')\n",
    "plt.xlabel('epoch')\n",
    "plt.legend(['train', 'test'], loc='upper left')\n",
    "plt.show()"
   ]
  },
  {
   "cell_type": "code",
   "execution_count": null,
   "metadata": {
    "colab": {
     "base_uri": "https://localhost:8080/",
     "height": 566
    },
    "id": "C1ZPRfqGbL24",
    "outputId": "d6979ee9-9894-40b4-f6b2-749b4fc7377f"
   },
   "outputs": [],
   "source": [
    "from sklearn.metrics import roc_curve, auc\n",
    "\n",
    "y_pred = model.predict(X_test).ravel()\n",
    "\n",
    "nn_fpr_keras, nn_tpr_keras, nn_thresholds_keras = roc_curve(y_test, y_pred)\n",
    "auc_keras = auc(nn_fpr_keras, nn_tpr_keras)\n",
    "plt.plot(nn_fpr_keras, nn_tpr_keras, marker='.', label='Neural Network (auc = %0.3f)' % auc_keras)\n",
    "plt.title('ROC Curve')\n",
    "plt.ylabel('TPR')\n",
    "plt.xlabel('FPR')\n",
    "plt.show()\n",
    "plt.axis('off')\n",
    "\n",
    "\n",
    "print(auc_keras)"
   ]
  },
  {
   "cell_type": "code",
   "execution_count": null,
   "metadata": {
    "colab": {
     "base_uri": "https://localhost:8080/",
     "height": 283
    },
    "id": "FKDAtg8v03gi",
    "outputId": "51068483-4f3f-4ddb-ce90-38d64e7822f3"
   },
   "outputs": [],
   "source": [
    "from matplotlib import pyplot\n",
    "predict_x=model.predict(X_test) \n",
    "\n",
    "happy_index = np.where(y_test.reshape(-1) == 0.)\n",
    "happy = predict_x[happy_index]\n",
    "\n",
    "sad_index = np.where(y_test.reshape(-1) == 1.)\n",
    "sad = predict_x[sad_index]\n",
    "\n",
    "\n",
    "\n",
    "bins = np.linspace(0, 1, 100)\n",
    "\n",
    "pyplot.hist(happy, bins, alpha=0.5, label='happy')\n",
    "pyplot.hist(sad, bins, alpha=0.5, label='sad')\n",
    "pyplot.legend(loc='upper right')\n",
    "pyplot.show()"
   ]
  },
  {
   "cell_type": "code",
   "execution_count": null,
   "metadata": {
    "colab": {
     "base_uri": "https://localhost:8080/"
    },
    "id": "7qj0bS2HAqWB",
    "outputId": "c7a49a83-ec32-459e-a586-4107e8d0dd76"
   },
   "outputs": [],
   "source": [
    "len(happy)\n"
   ]
  },
  {
   "cell_type": "code",
   "execution_count": null,
   "metadata": {
    "colab": {
     "base_uri": "https://localhost:8080/"
    },
    "id": "otUe0bNRCjXy",
    "outputId": "ce69ba8f-2800-4a9e-a32e-7897aaddf30f"
   },
   "outputs": [],
   "source": [
    "len(sad)"
   ]
  },
  {
   "cell_type": "code",
   "execution_count": null,
   "metadata": {
    "colab": {
     "base_uri": "https://localhost:8080/"
    },
    "id": "IlSXaCS0ycvx",
    "outputId": "23b14f86-c531-42be-cfbb-e74de82dceb4"
   },
   "outputs": [],
   "source": [
    "# for X,Y in zip(predict_x,y_test):\n",
    "#     print(\"Model Score:\", X, \"actual score:\", Y) "
   ]
  },
  {
   "cell_type": "code",
   "execution_count": null,
   "metadata": {},
   "outputs": [],
   "source": []
  }
 ],
 "metadata": {
  "accelerator": "GPU",
  "colab": {
   "provenance": []
  },
  "gpuClass": "standard",
  "kernelspec": {
   "display_name": "conda_tensorflow2_p38",
   "language": "python",
   "name": "conda_tensorflow2_p38"
  },
  "language_info": {
   "codemirror_mode": {
    "name": "ipython",
    "version": 3
   },
   "file_extension": ".py",
   "mimetype": "text/x-python",
   "name": "python",
   "nbconvert_exporter": "python",
   "pygments_lexer": "ipython3",
   "version": "3.8.12"
  }
 },
 "nbformat": 4,
 "nbformat_minor": 4
}
